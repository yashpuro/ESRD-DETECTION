{
 "cells": [
  {
   "cell_type": "code",
   "execution_count": 11,
   "metadata": {},
   "outputs": [],
   "source": [
    "# Importing all the packages required for the analysis  \n",
    "import pandas as pd \n",
    "import seaborn as sns\n",
    "import warnings\n",
    "import matplotlib.pyplot as plt\n",
    "import warnings\n",
    "warnings.filterwarnings('ignore')\n",
    "import glob\n",
    "import os\n",
    "import plotly.plotly as py\n",
    "import plotly.graph_objs as go\n",
    "%matplotlib qt\n",
    "import mysql.connector"
   ]
  },
  {
   "cell_type": "code",
   "execution_count": 12,
   "metadata": {},
   "outputs": [],
   "source": [
    "#list all the files required for the analysis\n",
    "base_dataset=pd.read_excel(\"ESRD Dataset.xls\")"
   ]
  },
  {
   "cell_type": "code",
   "execution_count": 13,
   "metadata": {},
   "outputs": [
    {
     "data": {
      "text/html": [
       "<div>\n",
       "<style scoped>\n",
       "    .dataframe tbody tr th:only-of-type {\n",
       "        vertical-align: middle;\n",
       "    }\n",
       "\n",
       "    .dataframe tbody tr th {\n",
       "        vertical-align: top;\n",
       "    }\n",
       "\n",
       "    .dataframe thead th {\n",
       "        text-align: right;\n",
       "    }\n",
       "</style>\n",
       "<table border=\"1\" class=\"dataframe\">\n",
       "  <thead>\n",
       "    <tr style=\"text-align: right;\">\n",
       "      <th></th>\n",
       "      <th>Patient Id</th>\n",
       "      <th>RBCount</th>\n",
       "      <th>SEX</th>\n",
       "      <th>EDUCATION</th>\n",
       "      <th>MARRIAGE</th>\n",
       "      <th>AGE</th>\n",
       "      <th>Eithinicity</th>\n",
       "      <th>Kidney Disfunction</th>\n",
       "      <th>Symptoms</th>\n",
       "      <th>CCIS</th>\n",
       "      <th>Disturbance of Equalibirum</th>\n",
       "      <th>Blood Flow levels</th>\n",
       "      <th>BMI Index</th>\n",
       "      <th>Shotness of Breath</th>\n",
       "      <th>Uremia Levels</th>\n",
       "      <th>Urine Color</th>\n",
       "      <th>ESRD Disease</th>\n",
       "    </tr>\n",
       "  </thead>\n",
       "  <tbody>\n",
       "    <tr>\n",
       "      <th>0</th>\n",
       "      <td>19283</td>\n",
       "      <td>230000</td>\n",
       "      <td>2</td>\n",
       "      <td>2</td>\n",
       "      <td>2</td>\n",
       "      <td>29</td>\n",
       "      <td>-1</td>\n",
       "      <td>-1</td>\n",
       "      <td>-1</td>\n",
       "      <td>-1</td>\n",
       "      <td>-1</td>\n",
       "      <td>-1</td>\n",
       "      <td>1149.0</td>\n",
       "      <td>1149.0</td>\n",
       "      <td>2140.0</td>\n",
       "      <td>3313.0</td>\n",
       "      <td>0</td>\n",
       "    </tr>\n",
       "    <tr>\n",
       "      <th>1</th>\n",
       "      <td>10399</td>\n",
       "      <td>50000</td>\n",
       "      <td>1</td>\n",
       "      <td>2</td>\n",
       "      <td>2</td>\n",
       "      <td>22</td>\n",
       "      <td>0</td>\n",
       "      <td>0</td>\n",
       "      <td>0</td>\n",
       "      <td>-2</td>\n",
       "      <td>-2</td>\n",
       "      <td>-2</td>\n",
       "      <td>43300.0</td>\n",
       "      <td>43300.0</td>\n",
       "      <td>0.0</td>\n",
       "      <td>0.0</td>\n",
       "      <td>0</td>\n",
       "    </tr>\n",
       "    <tr>\n",
       "      <th>2</th>\n",
       "      <td>16875</td>\n",
       "      <td>140000</td>\n",
       "      <td>1</td>\n",
       "      <td>2</td>\n",
       "      <td>2</td>\n",
       "      <td>48</td>\n",
       "      <td>0</td>\n",
       "      <td>0</td>\n",
       "      <td>2</td>\n",
       "      <td>2</td>\n",
       "      <td>2</td>\n",
       "      <td>0</td>\n",
       "      <td>124944.0</td>\n",
       "      <td>124944.0</td>\n",
       "      <td>124901.0</td>\n",
       "      <td>129675.0</td>\n",
       "      <td>0</td>\n",
       "    </tr>\n",
       "    <tr>\n",
       "      <th>3</th>\n",
       "      <td>7014</td>\n",
       "      <td>50000</td>\n",
       "      <td>1</td>\n",
       "      <td>2</td>\n",
       "      <td>1</td>\n",
       "      <td>32</td>\n",
       "      <td>0</td>\n",
       "      <td>0</td>\n",
       "      <td>0</td>\n",
       "      <td>0</td>\n",
       "      <td>0</td>\n",
       "      <td>0</td>\n",
       "      <td>35441.0</td>\n",
       "      <td>35441.0</td>\n",
       "      <td>26265.0</td>\n",
       "      <td>19526.0</td>\n",
       "      <td>0</td>\n",
       "    </tr>\n",
       "    <tr>\n",
       "      <th>4</th>\n",
       "      <td>28544</td>\n",
       "      <td>120000</td>\n",
       "      <td>2</td>\n",
       "      <td>2</td>\n",
       "      <td>1</td>\n",
       "      <td>35</td>\n",
       "      <td>0</td>\n",
       "      <td>0</td>\n",
       "      <td>0</td>\n",
       "      <td>0</td>\n",
       "      <td>0</td>\n",
       "      <td>0</td>\n",
       "      <td>113690.0</td>\n",
       "      <td>113690.0</td>\n",
       "      <td>114609.0</td>\n",
       "      <td>118232.0</td>\n",
       "      <td>0</td>\n",
       "    </tr>\n",
       "    <tr>\n",
       "      <th>5</th>\n",
       "      <td>20986</td>\n",
       "      <td>500000</td>\n",
       "      <td>1</td>\n",
       "      <td>1</td>\n",
       "      <td>1</td>\n",
       "      <td>30</td>\n",
       "      <td>0</td>\n",
       "      <td>0</td>\n",
       "      <td>0</td>\n",
       "      <td>0</td>\n",
       "      <td>0</td>\n",
       "      <td>0</td>\n",
       "      <td>75753.0</td>\n",
       "      <td>75753.0</td>\n",
       "      <td>78031.0</td>\n",
       "      <td>78946.0</td>\n",
       "      <td>0</td>\n",
       "    </tr>\n",
       "    <tr>\n",
       "      <th>6</th>\n",
       "      <td>16095</td>\n",
       "      <td>160000</td>\n",
       "      <td>2</td>\n",
       "      <td>2</td>\n",
       "      <td>2</td>\n",
       "      <td>42</td>\n",
       "      <td>1</td>\n",
       "      <td>2</td>\n",
       "      <td>2</td>\n",
       "      <td>0</td>\n",
       "      <td>0</td>\n",
       "      <td>0</td>\n",
       "      <td>152630.0</td>\n",
       "      <td>152630.0</td>\n",
       "      <td>95758.0</td>\n",
       "      <td>97251.0</td>\n",
       "      <td>1</td>\n",
       "    </tr>\n",
       "    <tr>\n",
       "      <th>7</th>\n",
       "      <td>8805</td>\n",
       "      <td>140000</td>\n",
       "      <td>2</td>\n",
       "      <td>2</td>\n",
       "      <td>2</td>\n",
       "      <td>29</td>\n",
       "      <td>-1</td>\n",
       "      <td>-1</td>\n",
       "      <td>-1</td>\n",
       "      <td>-1</td>\n",
       "      <td>-1</td>\n",
       "      <td>-1</td>\n",
       "      <td>896.0</td>\n",
       "      <td>896.0</td>\n",
       "      <td>2385.0</td>\n",
       "      <td>732.0</td>\n",
       "      <td>0</td>\n",
       "    </tr>\n",
       "    <tr>\n",
       "      <th>8</th>\n",
       "      <td>4538</td>\n",
       "      <td>20000</td>\n",
       "      <td>1</td>\n",
       "      <td>1</td>\n",
       "      <td>2</td>\n",
       "      <td>56</td>\n",
       "      <td>1</td>\n",
       "      <td>-2</td>\n",
       "      <td>-1</td>\n",
       "      <td>0</td>\n",
       "      <td>0</td>\n",
       "      <td>2</td>\n",
       "      <td>0.0</td>\n",
       "      <td>0.0</td>\n",
       "      <td>17901.0</td>\n",
       "      <td>18217.0</td>\n",
       "      <td>0</td>\n",
       "    </tr>\n",
       "    <tr>\n",
       "      <th>9</th>\n",
       "      <td>13308</td>\n",
       "      <td>50000</td>\n",
       "      <td>1</td>\n",
       "      <td>1</td>\n",
       "      <td>1</td>\n",
       "      <td>33</td>\n",
       "      <td>1</td>\n",
       "      <td>2</td>\n",
       "      <td>0</td>\n",
       "      <td>0</td>\n",
       "      <td>0</td>\n",
       "      <td>0</td>\n",
       "      <td>45727.0</td>\n",
       "      <td>45727.0</td>\n",
       "      <td>45515.0</td>\n",
       "      <td>45470.0</td>\n",
       "      <td>0</td>\n",
       "    </tr>\n",
       "  </tbody>\n",
       "</table>\n",
       "</div>"
      ],
      "text/plain": [
       "   Patient Id  RBCount  SEX  EDUCATION  MARRIAGE  AGE  Eithinicity  \\\n",
       "0       19283   230000    2          2         2   29           -1   \n",
       "1       10399    50000    1          2         2   22            0   \n",
       "2       16875   140000    1          2         2   48            0   \n",
       "3        7014    50000    1          2         1   32            0   \n",
       "4       28544   120000    2          2         1   35            0   \n",
       "5       20986   500000    1          1         1   30            0   \n",
       "6       16095   160000    2          2         2   42            1   \n",
       "7        8805   140000    2          2         2   29           -1   \n",
       "8        4538    20000    1          1         2   56            1   \n",
       "9       13308    50000    1          1         1   33            1   \n",
       "\n",
       "   Kidney Disfunction  Symptoms  CCIS  Disturbance of Equalibirum   \\\n",
       "0                  -1        -1    -1                           -1   \n",
       "1                   0         0    -2                           -2   \n",
       "2                   0         2     2                            2   \n",
       "3                   0         0     0                            0   \n",
       "4                   0         0     0                            0   \n",
       "5                   0         0     0                            0   \n",
       "6                   2         2     0                            0   \n",
       "7                  -1        -1    -1                           -1   \n",
       "8                  -2        -1     0                            0   \n",
       "9                   2         0     0                            0   \n",
       "\n",
       "   Blood Flow levels  BMI Index  Shotness of Breath  Uremia Levels  \\\n",
       "0                 -1     1149.0              1149.0         2140.0   \n",
       "1                 -2    43300.0             43300.0            0.0   \n",
       "2                  0   124944.0            124944.0       124901.0   \n",
       "3                  0    35441.0             35441.0        26265.0   \n",
       "4                  0   113690.0            113690.0       114609.0   \n",
       "5                  0    75753.0             75753.0        78031.0   \n",
       "6                  0   152630.0            152630.0        95758.0   \n",
       "7                 -1      896.0               896.0         2385.0   \n",
       "8                  2        0.0                 0.0        17901.0   \n",
       "9                  0    45727.0             45727.0        45515.0   \n",
       "\n",
       "   Urine Color   ESRD Disease  \n",
       "0        3313.0             0  \n",
       "1           0.0             0  \n",
       "2      129675.0             0  \n",
       "3       19526.0             0  \n",
       "4      118232.0             0  \n",
       "5       78946.0             0  \n",
       "6       97251.0             1  \n",
       "7         732.0             0  \n",
       "8       18217.0             0  \n",
       "9       45470.0             0  "
      ]
     },
     "execution_count": 13,
     "metadata": {},
     "output_type": "execute_result"
    }
   ],
   "source": [
    "vv=base_dataset.sample(10)\n",
    "vv.reset_index(inplace=True)\n",
    "vv.drop(\"index\",axis= 1,inplace=True)\n",
    "vv"
   ]
  },
  {
   "cell_type": "code",
   "execution_count": 14,
   "metadata": {},
   "outputs": [],
   "source": [
    "\n",
    "\n",
    "mydb = mysql.connector.connect(\n",
    "  host=\"localhost\",\n",
    "  user=\"root\",\n",
    "  passwd=\"\",\n",
    "  database=\"cancer\"\n",
    ")\n",
    "\n",
    "mycursor = mydb.cursor()\n"
   ]
  },
  {
   "cell_type": "code",
   "execution_count": 15,
   "metadata": {},
   "outputs": [
    {
     "name": "stdout",
     "output_type": "stream",
     "text": [
      "1 record inserted.\n",
      "1 record inserted.\n",
      "1 record inserted.\n",
      "1 record inserted.\n",
      "1 record inserted.\n",
      "1 record inserted.\n",
      "1 record inserted.\n",
      "1 record inserted.\n",
      "1 record inserted.\n",
      "1 record inserted.\n"
     ]
    }
   ],
   "source": [
    "for i in range (0,10):\n",
    "    temp=[]\n",
    "    for j in vv.columns:\n",
    "        temp.append(float(vv[j][i]))\n",
    "    temp=tuple(temp)\n",
    "    sql = \"INSERT INTO head VALUES (%s,%s, %s,%s, %s,%s, %s,%s, %s,%s, %s,%s, %s,%s, %s,%s, %s)\"\n",
    "    mycursor.execute(sql, temp)\n",
    "    mydb.commit()\n",
    "    print(mycursor.rowcount, \"record inserted.\")\n"
   ]
  },
  {
   "cell_type": "code",
   "execution_count": 16,
   "metadata": {},
   "outputs": [
    {
     "data": {
      "text/html": [
       "<script type=\"text/Javascript\">var win = window.open(\"\", \"Title\", \"toolbar=no, location=no, directories=no, status=no, menubar=no, scrollbars=yes, resizable=yes, width=780, height=200, top=\"+(screen.height-400)+\", left=\"+(screen.width-840));win.document.body.innerHTML = '<table border=\"1\" class=\"dataframe\">\\  <thead>\\    <tr style=\"text-align: right;\">\\      <th></th>\\      <th>Patient Id</th>\\      <th>RBCount</th>\\      <th>SEX</th>\\      <th>EDUCATION</th>\\      <th>MARRIAGE</th>\\      <th>AGE</th>\\      <th>Eithinicity</th>\\      <th>Kidney Disfunction</th>\\      <th>Symptoms</th>\\      <th>CCIS</th>\\      <th>Disturbance of Equalibirum</th>\\      <th>Blood Flow levels</th>\\      <th>BMI Index</th>\\      <th>Shotness of Breath</th>\\      <th>Uremia Levels</th>\\      <th>Urine Color</th>\\      <th>ESRD Disease</th>\\    </tr>\\  </thead>\\  <tbody>\\    <tr>\\      <th>4507</th>\\      <td>4508</td>\\      <td>30000</td>\\      <td>1</td>\\      <td>3</td>\\      <td>2</td>\\      <td>42</td>\\      <td>5</td>\\      <td>4</td>\\      <td>3</td>\\      <td>2</td>\\      <td>0</td>\\      <td>0</td>\\      <td>31973.0</td>\\      <td>31973.0</td>\\      <td>30937.0</td>\\      <td>29999.0</td>\\      <td>1</td>\\    </tr>\\    <tr>\\      <th>4119</th>\\      <td>4120</td>\\      <td>250000</td>\\      <td>1</td>\\      <td>2</td>\\      <td>1</td>\\      <td>47</td>\\      <td>-1</td>\\      <td>-1</td>\\      <td>-1</td>\\      <td>-1</td>\\      <td>-1</td>\\      <td>-1</td>\\      <td>19147.0</td>\\      <td>19147.0</td>\\      <td>4192.0</td>\\      <td>5947.0</td>\\      <td>0</td>\\    </tr>\\    <tr>\\      <th>18558</th>\\      <td>18559</td>\\      <td>310000</td>\\      <td>2</td>\\      <td>1</td>\\      <td>2</td>\\      <td>26</td>\\      <td>0</td>\\      <td>0</td>\\      <td>0</td>\\      <td>0</td>\\      <td>0</td>\\      <td>0</td>\\      <td>24020.0</td>\\      <td>24020.0</td>\\      <td>25223.0</td>\\      <td>25555.0</td>\\      <td>0</td>\\    </tr>\\    <tr>\\      <th>21915</th>\\      <td>21916</td>\\      <td>190000</td>\\      <td>2</td>\\      <td>2</td>\\      <td>2</td>\\      <td>28</td>\\      <td>0</td>\\      <td>0</td>\\      <td>0</td>\\      <td>0</td>\\      <td>0</td>\\      <td>2</td>\\      <td>188550.0</td>\\      <td>188550.0</td>\\      <td>187521.0</td>\\      <td>190448.0</td>\\      <td>0</td>\\    </tr>\\    <tr>\\      <th>15372</th>\\      <td>15373</td>\\      <td>390000</td>\\      <td>2</td>\\      <td>1</td>\\      <td>2</td>\\      <td>30</td>\\      <td>0</td>\\      <td>0</td>\\      <td>0</td>\\      <td>0</td>\\      <td>0</td>\\      <td>0</td>\\      <td>153477.0</td>\\      <td>153477.0</td>\\      <td>148629.0</td>\\      <td>141571.0</td>\\      <td>0</td>\\    </tr>\\    <tr>\\      <th>12136</th>\\      <td>12137</td>\\      <td>200000</td>\\      <td>2</td>\\      <td>2</td>\\      <td>2</td>\\      <td>25</td>\\      <td>0</td>\\      <td>0</td>\\      <td>0</td>\\      <td>0</td>\\      <td>-1</td>\\      <td>-1</td>\\      <td>22770.0</td>\\      <td>22770.0</td>\\      <td>23231.0</td>\\      <td>6979.0</td>\\      <td>0</td>\\    </tr>\\    <tr>\\      <th>21177</th>\\      <td>21178</td>\\      <td>300000</td>\\      <td>1</td>\\      <td>3</td>\\      <td>2</td>\\      <td>31</td>\\      <td>0</td>\\      <td>0</td>\\      <td>0</td>\\      <td>0</td>\\      <td>0</td>\\      <td>0</td>\\      <td>82690.0</td>\\      <td>82690.0</td>\\      <td>84462.0</td>\\      <td>86263.0</td>\\      <td>0</td>\\    </tr>\\    <tr>\\      <th>11495</th>\\      <td>11496</td>\\      <td>320000</td>\\      <td>1</td>\\      <td>2</td>\\      <td>1</td>\\      <td>42</td>\\      <td>-2</td>\\      <td>-2</td>\\      <td>-2</td>\\      <td>-2</td>\\      <td>-2</td>\\      <td>-2</td>\\      <td>1550.0</td>\\      <td>1550.0</td>\\      <td>0.0</td>\\      <td>2000.0</td>\\      <td>0</td>\\    </tr>\\    <tr>\\      <th>14007</th>\\      <td>14008</td>\\      <td>20000</td>\\      <td>2</td>\\      <td>1</td>\\      <td>2</td>\\      <td>29</td>\\      <td>-1</td>\\      <td>-1</td>\\      <td>-2</td>\\      <td>-1</td>\\      <td>0</td>\\      <td>-1</td>\\      <td>-802.0</td>\\      <td>-802.0</td>\\      <td>-1282.0</td>\\      <td>1718.0</td>\\      <td>1</td>\\    </tr>\\    <tr>\\      <th>12364</th>\\      <td>12365</td>\\      <td>100000</td>\\      <td>2</td>\\      <td>3</td>\\      <td>3</td>\\      <td>47</td>\\      <td>-1</td>\\      <td>-1</td>\\      <td>2</td>\\      <td>0</td>\\      <td>-1</td>\\      <td>-1</td>\\      <td>1859.0</td>\\      <td>1859.0</td>\\      <td>1672.0</td>\\      <td>836.0</td>\\      <td>0</td>\\    </tr>\\    <tr>\\      <th>21724</th>\\      <td>21725</td>\\      <td>30000</td>\\      <td>2</td>\\      <td>3</td>\\      <td>2</td>\\      <td>26</td>\\      <td>2</td>\\      <td>3</td>\\      <td>2</td>\\      <td>0</td>\\      <td>0</td>\\      <td>0</td>\\      <td>25700.0</td>\\      <td>25700.0</td>\\      <td>24989.0</td>\\      <td>25068.0</td>\\      <td>0</td>\\    </tr>\\    <tr>\\      <th>29580</th>\\      <td>29581</td>\\      <td>180000</td>\\      <td>1</td>\\      <td>1</td>\\      <td>1</td>\\      <td>36</td>\\      <td>0</td>\\      <td>0</td>\\      <td>0</td>\\      <td>0</td>\\      <td>0</td>\\      <td>0</td>\\      <td>84298.0</td>\\      <td>84298.0</td>\\      <td>62201.0</td>\\      <td>81859.0</td>\\      <td>0</td>\\    </tr>\\    <tr>\\      <th>13383</th>\\      <td>13384</td>\\      <td>110000</td>\\      <td>1</td>\\      <td>2</td>\\      <td>2</td>\\      <td>27</td>\\      <td>0</td>\\      <td>0</td>\\      <td>0</td>\\      <td>0</td>\\      <td>0</td>\\      <td>0</td>\\      <td>31743.0</td>\\      <td>31743.0</td>\\      <td>33202.0</td>\\      <td>34656.0</td>\\      <td>0</td>\\    </tr>\\    <tr>\\      <th>7462</th>\\      <td>7463</td>\\      <td>360000</td>\\      <td>2</td>\\      <td>2</td>\\      <td>1</td>\\      <td>38</td>\\      <td>-1</td>\\      <td>-1</td>\\      <td>-1</td>\\      <td>-1</td>\\      <td>-1</td>\\      <td>-1</td>\\      <td>238.0</td>\\      <td>238.0</td>\\      <td>2402.0</td>\\      <td>3580.0</td>\\      <td>0</td>\\    </tr>\\    <tr>\\      <th>26665</th>\\      <td>26666</td>\\      <td>30000</td>\\      <td>1</td>\\      <td>3</td>\\      <td>2</td>\\      <td>26</td>\\      <td>0</td>\\      <td>0</td>\\      <td>2</td>\\      <td>0</td>\\      <td>0</td>\\      <td>0</td>\\      <td>28738.0</td>\\      <td>28738.0</td>\\      <td>27999.0</td>\\      <td>28097.0</td>\\      <td>0</td>\\    </tr>\\    <tr>\\      <th>23837</th>\\      <td>23838</td>\\      <td>360000</td>\\      <td>2</td>\\      <td>2</td>\\      <td>2</td>\\      <td>54</td>\\      <td>0</td>\\      <td>0</td>\\      <td>0</td>\\      <td>0</td>\\      <td>0</td>\\      <td>0</td>\\      <td>202845.0</td>\\      <td>202845.0</td>\\      <td>177252.0</td>\\      <td>165622.0</td>\\      <td>0</td>\\    </tr>\\    <tr>\\      <th>21480</th>\\      <td>21481</td>\\      <td>20000</td>\\      <td>2</td>\\      <td>2</td>\\      <td>1</td>\\      <td>24</td>\\      <td>-1</td>\\      <td>4</td>\\      <td>4</td>\\      <td>3</td>\\      <td>4</td>\\      <td>3</td>\\      <td>19902.0</td>\\      <td>19902.0</td>\\      <td>19299.0</td>\\      <td>20686.0</td>\\      <td>1</td>\\    </tr>\\    <tr>\\      <th>1554</th>\\      <td>1555</td>\\      <td>110000</td>\\      <td>1</td>\\      <td>1</td>\\      <td>2</td>\\      <td>28</td>\\      <td>1</td>\\      <td>2</td>\\      <td>0</td>\\      <td>0</td>\\      <td>0</td>\\      <td>0</td>\\      <td>41812.0</td>\\      <td>41812.0</td>\\      <td>43095.0</td>\\      <td>46292.0</td>\\      <td>0</td>\\    </tr>\\    <tr>\\      <th>9719</th>\\      <td>9720</td>\\      <td>360000</td>\\      <td>1</td>\\      <td>2</td>\\      <td>2</td>\\      <td>38</td>\\      <td>-2</td>\\      <td>-2</td>\\      <td>-2</td>\\      <td>-2</td>\\      <td>-1</td>\\      <td>0</td>\\      <td>0.0</td>\\      <td>0.0</td>\\      <td>0.0</td>\\      <td>0.0</td>\\      <td>0</td>\\    </tr>\\    <tr>\\      <th>12341</th>\\      <td>12342</td>\\      <td>160000</td>\\      <td>1</td>\\      <td>5</td>\\      <td>2</td>\\      <td>46</td>\\      <td>0</td>\\      <td>0</td>\\      <td>0</td>\\      <td>0</td>\\      <td>-2</td>\\      <td>-2</td>\\      <td>159376.0</td>\\      <td>159376.0</td>\\      <td>162998.0</td>\\      <td>0.0</td>\\      <td>0</td>\\    </tr>\\    <tr>\\      <th>27301</th>\\      <td>27302</td>\\      <td>30000</td>\\      <td>1</td>\\      <td>2</td>\\      <td>2</td>\\      <td>30</td>\\      <td>0</td>\\      <td>0</td>\\      <td>0</td>\\      <td>0</td>\\      <td>-1</td>\\      <td>0</td>\\      <td>29890.0</td>\\      <td>29890.0</td>\\      <td>28561.0</td>\\      <td>-229.0</td>\\      <td>0</td>\\    </tr>\\    <tr>\\      <th>11391</th>\\      <td>11392</td>\\      <td>230000</td>\\      <td>2</td>\\      <td>2</td>\\      <td>1</td>\\      <td>46</td>\\      <td>-1</td>\\      <td>-1</td>\\      <td>-1</td>\\      <td>-1</td>\\      <td>-1</td>\\      <td>-1</td>\\      <td>3354.0</td>\\      <td>3354.0</td>\\      <td>858.0</td>\\      <td>5505.0</td>\\      <td>0</td>\\    </tr>\\    <tr>\\      <th>10063</th>\\      <td>10064</td>\\      <td>140000</td>\\      <td>1</td>\\      <td>3</td>\\      <td>1</td>\\      <td>59</td>\\      <td>0</td>\\      <td>0</td>\\      <td>0</td>\\      <td>0</td>\\      <td>2</td>\\      <td>0</td>\\      <td>130838.0</td>\\      <td>130838.0</td>\\      <td>131910.0</td>\\      <td>136810.0</td>\\      <td>0</td>\\    </tr>\\    <tr>\\      <th>19980</th>\\      <td>19981</td>\\      <td>300000</td>\\      <td>2</td>\\      <td>1</td>\\      <td>2</td>\\      <td>31</td>\\      <td>0</td>\\      <td>0</td>\\      <td>0</td>\\      <td>0</td>\\      <td>0</td>\\      <td>0</td>\\      <td>126251.0</td>\\      <td>126251.0</td>\\      <td>131968.0</td>\\      <td>113866.0</td>\\      <td>0</td>\\    </tr>\\    <tr>\\      <th>18025</th>\\      <td>18026</td>\\      <td>20000</td>\\      <td>1</td>\\      <td>3</td>\\      <td>1</td>\\      <td>47</td>\\      <td>0</td>\\      <td>0</td>\\      <td>0</td>\\      <td>0</td>\\      <td>0</td>\\      <td>0</td>\\      <td>14334.0</td>\\      <td>14334.0</td>\\      <td>9086.0</td>\\      <td>5096.0</td>\\      <td>0</td>\\    </tr>\\    <tr>\\      <th>2722</th>\\      <td>2723</td>\\      <td>140000</td>\\      <td>1</td>\\      <td>1</td>\\      <td>2</td>\\      <td>41</td>\\      <td>2</td>\\      <td>2</td>\\      <td>2</td>\\      <td>0</td>\\      <td>0</td>\\      <td>0</td>\\      <td>143684.0</td>\\      <td>143684.0</td>\\      <td>139902.0</td>\\      <td>142729.0</td>\\      <td>1</td>\\    </tr>\\    <tr>\\      <th>6346</th>\\      <td>6347</td>\\      <td>80000</td>\\      <td>2</td>\\      <td>2</td>\\      <td>1</td>\\      <td>31</td>\\      <td>-1</td>\\      <td>-1</td>\\      <td>-1</td>\\      <td>-1</td>\\      <td>-1</td>\\      <td>0</td>\\      <td>390.0</td>\\      <td>390.0</td>\\      <td>390.0</td>\\      <td>390.0</td>\\      <td>0</td>\\    </tr>\\    <tr>\\      <th>16031</th>\\      <td>16032</td>\\      <td>20000</td>\\      <td>2</td>\\      <td>2</td>\\      <td>1</td>\\      <td>32</td>\\      <td>1</td>\\      <td>2</td>\\      <td>2</td>\\      <td>2</td>\\      <td>0</td>\\      <td>0</td>\\      <td>16478.0</td>\\      <td>16478.0</td>\\      <td>19098.0</td>\\      <td>18397.0</td>\\      <td>0</td>\\    </tr>\\    <tr>\\      <th>7480</th>\\      <td>7481</td>\\      <td>110000</td>\\      <td>1</td>\\      <td>2</td>\\      <td>2</td>\\      <td>28</td>\\      <td>2</td>\\      <td>2</td>\\      <td>2</td>\\      <td>2</td>\\      <td>0</td>\\      <td>0</td>\\      <td>113676.0</td>\\      <td>113676.0</td>\\      <td>114223.0</td>\\      <td>110876.0</td>\\      <td>1</td>\\    </tr>\\    <tr>\\      <th>20583</th>\\      <td>20584</td>\\      <td>140000</td>\\      <td>1</td>\\      <td>1</td>\\      <td>2</td>\\      <td>27</td>\\      <td>0</td>\\      <td>0</td>\\      <td>0</td>\\      <td>0</td>\\      <td>0</td>\\      <td>0</td>\\      <td>86625.0</td>\\      <td>86625.0</td>\\      <td>89226.0</td>\\      <td>91680.0</td>\\      <td>0</td>\\    </tr>\\    <tr>\\      <th>13566</th>\\      <td>13567</td>\\      <td>240000</td>\\      <td>1</td>\\      <td>2</td>\\      <td>1</td>\\      <td>62</td>\\      <td>-1</td>\\      <td>-1</td>\\      <td>0</td>\\      <td>0</td>\\      <td>-1</td>\\      <td>2</td>\\      <td>3855.0</td>\\      <td>3855.0</td>\\      <td>3802.0</td>\\      <td>1901.0</td>\\      <td>0</td>\\    </tr>\\    <tr>\\      <th>11683</th>\\      <td>11684</td>\\      <td>50000</td>\\      <td>1</td>\\      <td>2</td>\\      <td>1</td>\\      <td>50</td>\\      <td>-2</td>\\      <td>-2</td>\\      <td>-2</td>\\      <td>-2</td>\\      <td>-2</td>\\      <td>-2</td>\\      <td>-4.0</td>\\      <td>-4.0</td>\\      <td>1473.0</td>\\      <td>2517.0</td>\\      <td>1</td>\\    </tr>\\    <tr>\\      <th>20351</th>\\      <td>20352</td>\\      <td>60000</td>\\      <td>1</td>\\      <td>3</td>\\      <td>2</td>\\      <td>26</td>\\      <td>0</td>\\      <td>0</td>\\      <td>0</td>\\      <td>0</td>\\      <td>0</td>\\      <td>0</td>\\      <td>57648.0</td>\\      <td>57648.0</td>\\      <td>59521.0</td>\\      <td>58637.0</td>\\      <td>0</td>\\    </tr>\\    <tr>\\      <th>17209</th>\\      <td>17210</td>\\      <td>90000</td>\\      <td>2</td>\\      <td>1</td>\\      <td>2</td>\\      <td>28</td>\\      <td>-1</td>\\      <td>-1</td>\\      <td>-1</td>\\      <td>-1</td>\\      <td>-1</td>\\      <td>-1</td>\\      <td>1950.0</td>\\      <td>1950.0</td>\\      <td>7956.0</td>\\      <td>499.0</td>\\      <td>0</td>\\    </tr>\\    <tr>\\      <th>11000</th>\\      <td>11001</td>\\      <td>80000</td>\\      <td>1</td>\\      <td>1</td>\\      <td>2</td>\\      <td>27</td>\\      <td>-1</td>\\      <td>-1</td>\\      <td>-1</td>\\      <td>-2</td>\\      <td>-2</td>\\      <td>-2</td>\\      <td>179.0</td>\\      <td>179.0</td>\\      <td>0.0</td>\\      <td>0.0</td>\\      <td>0</td>\\    </tr>\\    <tr>\\      <th>2380</th>\\      <td>2381</td>\\      <td>110000</td>\\      <td>2</td>\\      <td>2</td>\\      <td>2</td>\\      <td>28</td>\\      <td>0</td>\\      <td>0</td>\\      <td>0</td>\\      <td>0</td>\\      <td>0</td>\\      <td>0</td>\\      <td>83241.0</td>\\      <td>83241.0</td>\\      <td>84960.0</td>\\      <td>86045.0</td>\\      <td>0</td>\\    </tr>\\    <tr>\\      <th>24706</th>\\      <td>24707</td>\\      <td>50000</td>\\      <td>1</td>\\      <td>3</td>\\      <td>2</td>\\      <td>35</td>\\      <td>0</td>\\      <td>0</td>\\      <td>0</td>\\      <td>0</td>\\      <td>0</td>\\      <td>0</td>\\      <td>39891.0</td>\\      <td>39891.0</td>\\      <td>41945.0</td>\\      <td>44064.0</td>\\      <td>0</td>\\    </tr>\\    <tr>\\      <th>21593</th>\\      <td>21594</td>\\      <td>280000</td>\\      <td>2</td>\\      <td>2</td>\\      <td>2</td>\\      <td>25</td>\\      <td>0</td>\\      <td>0</td>\\      <td>0</td>\\      <td>0</td>\\      <td>0</td>\\      <td>0</td>\\      <td>141146.0</td>\\      <td>141146.0</td>\\      <td>129252.0</td>\\      <td>103317.0</td>\\      <td>0</td>\\    </tr>\\    <tr>\\      <th>27785</th>\\      <td>27786</td>\\      <td>420000</td>\\      <td>2</td>\\      <td>2</td>\\      <td>2</td>\\      <td>25</td>\\      <td>0</td>\\      <td>-1</td>\\      <td>0</td>\\      <td>0</td>\\      <td>0</td>\\      <td>0</td>\\      <td>28206.0</td>\\      <td>28206.0</td>\\      <td>122212.0</td>\\      <td>117835.0</td>\\      <td>0</td>\\    </tr>\\    <tr>\\      <th>10516</th>\\      <td>10517</td>\\      <td>350000</td>\\      <td>2</td>\\      <td>2</td>\\      <td>2</td>\\      <td>33</td>\\      <td>0</td>\\      <td>0</td>\\      <td>0</td>\\      <td>0</td>\\      <td>0</td>\\      <td>0</td>\\      <td>338272.0</td>\\      <td>338272.0</td>\\      <td>177483.0</td>\\      <td>182381.0</td>\\      <td>0</td>\\    </tr>\\    <tr>\\      <th>16387</th>\\      <td>16388</td>\\      <td>450000</td>\\      <td>2</td>\\      <td>2</td>\\      <td>1</td>\\      <td>38</td>\\      <td>0</td>\\      <td>0</td>\\      <td>0</td>\\      <td>0</td>\\      <td>0</td>\\      <td>0</td>\\      <td>92361.0</td>\\      <td>92361.0</td>\\      <td>96013.0</td>\\      <td>34079.0</td>\\      <td>0</td>\\    </tr>\\    <tr>\\      <th>1801</th>\\      <td>1802</td>\\      <td>120000</td>\\      <td>1</td>\\      <td>3</td>\\      <td>1</td>\\      <td>47</td>\\      <td>-1</td>\\      <td>-1</td>\\      <td>-1</td>\\      <td>-1</td>\\      <td>-1</td>\\      <td>-1</td>\\      <td>671.0</td>\\      <td>671.0</td>\\      <td>291.0</td>\\      <td>1051.0</td>\\      <td>0</td>\\    </tr>\\    <tr>\\      <th>815</th>\\      <td>816</td>\\      <td>280000</td>\\      <td>2</td>\\      <td>2</td>\\      <td>1</td>\\      <td>39</td>\\      <td>0</td>\\      <td>0</td>\\      <td>2</td>\\      <td>0</td>\\      <td>0</td>\\      <td>0</td>\\      <td>228963.0</td>\\      <td>228963.0</td>\\      <td>223810.0</td>\\      <td>158542.0</td>\\      <td>0</td>\\    </tr>\\    <tr>\\      <th>13533</th>\\      <td>13534</td>\\      <td>50000</td>\\      <td>1</td>\\      <td>3</td>\\      <td>2</td>\\      <td>41</td>\\      <td>0</td>\\      <td>0</td>\\      <td>0</td>\\      <td>0</td>\\      <td>0</td>\\      <td>0</td>\\      <td>14446.0</td>\\      <td>14446.0</td>\\      <td>10339.0</td>\\      <td>10766.0</td>\\      <td>0</td>\\    </tr>\\    <tr>\\      <th>12663</th>\\      <td>12664</td>\\      <td>10000</td>\\      <td>1</td>\\      <td>3</td>\\      <td>2</td>\\      <td>28</td>\\      <td>2</td>\\      <td>0</td>\\      <td>0</td>\\      <td>-1</td>\\      <td>-1</td>\\      <td>0</td>\\      <td>6390.0</td>\\      <td>6390.0</td>\\      <td>0.0</td>\\      <td>1170.0</td>\\      <td>1</td>\\    </tr>\\    <tr>\\      <th>18864</th>\\      <td>18865</td>\\      <td>130000</td>\\      <td>2</td>\\      <td>2</td>\\      <td>1</td>\\      <td>28</td>\\      <td>2</td>\\      <td>0</td>\\      <td>0</td>\\      <td>0</td>\\      <td>0</td>\\      <td>-2</td>\\      <td>100143.0</td>\\      <td>100143.0</td>\\      <td>50456.0</td>\\      <td>50000.0</td>\\      <td>0</td>\\    </tr>\\    <tr>\\      <th>23205</th>\\      <td>23206</td>\\      <td>170000</td>\\      <td>2</td>\\      <td>2</td>\\      <td>1</td>\\      <td>45</td>\\      <td>1</td>\\      <td>2</td>\\      <td>2</td>\\      <td>0</td>\\      <td>0</td>\\      <td>0</td>\\      <td>117076.0</td>\\      <td>117076.0</td>\\      <td>113778.0</td>\\      <td>117989.0</td>\\      <td>1</td>\\    </tr>\\    <tr>\\      <th>13322</th>\\      <td>13323</td>\\      <td>360000</td>\\      <td>2</td>\\      <td>2</td>\\      <td>1</td>\\      <td>59</td>\\      <td>1</td>\\      <td>-2</td>\\      <td>-2</td>\\      <td>-2</td>\\      <td>-2</td>\\      <td>-2</td>\\      <td>0.0</td>\\      <td>0.0</td>\\      <td>0.0</td>\\      <td>0.0</td>\\      <td>1</td>\\    </tr>\\    <tr>\\      <th>14130</th>\\      <td>14131</td>\\      <td>270000</td>\\      <td>1</td>\\      <td>2</td>\\      <td>1</td>\\      <td>39</td>\\      <td>0</td>\\      <td>0</td>\\      <td>0</td>\\      <td>0</td>\\      <td>0</td>\\      <td>0</td>\\      <td>114809.0</td>\\      <td>114809.0</td>\\      <td>113771.0</td>\\      <td>103023.0</td>\\      <td>0</td>\\    </tr>\\    <tr>\\      <th>14361</th>\\      <td>14362</td>\\      <td>240000</td>\\      <td>1</td>\\      <td>1</td>\\      <td>1</td>\\      <td>36</td>\\      <td>2</td>\\      <td>0</td>\\      <td>0</td>\\      <td>0</td>\\      <td>0</td>\\      <td>2</td>\\      <td>187637.0</td>\\      <td>187637.0</td>\\      <td>191846.0</td>\\      <td>194485.0</td>\\      <td>0</td>\\    </tr>\\    <tr>\\      <th>28569</th>\\      <td>28570</td>\\      <td>200000</td>\\      <td>2</td>\\      <td>1</td>\\      <td>1</td>\\      <td>29</td>\\      <td>-1</td>\\      <td>-1</td>\\      <td>-1</td>\\      <td>-1</td>\\      <td>-1</td>\\      <td>-1</td>\\      <td>2210.0</td>\\      <td>2210.0</td>\\      <td>2451.0</td>\\      <td>3043.0</td>\\      <td>0</td>\\    </tr>\\    <tr>\\      <th>18499</th>\\      <td>18500</td>\\      <td>70000</td>\\      <td>2</td>\\      <td>5</td>\\      <td>1</td>\\      <td>26</td>\\      <td>0</td>\\      <td>0</td>\\      <td>0</td>\\      <td>0</td>\\      <td>0</td>\\      <td>0</td>\\      <td>71158.0</td>\\      <td>71158.0</td>\\      <td>70557.0</td>\\      <td>37209.0</td>\\      <td>0</td>\\    </tr>\\    <tr>\\      <th>5228</th>\\      <td>5229</td>\\      <td>320000</td>\\      <td>2</td>\\      <td>3</td>\\      <td>2</td>\\      <td>53</td>\\      <td>-1</td>\\      <td>-1</td>\\      <td>-1</td>\\      <td>-1</td>\\      <td>0</td>\\      <td>0</td>\\      <td>3479.0</td>\\      <td>3479.0</td>\\      <td>3479.0</td>\\      <td>12610.0</td>\\      <td>1</td>\\    </tr>\\    <tr>\\      <th>29184</th>\\      <td>29185</td>\\      <td>120000</td>\\      <td>1</td>\\      <td>1</td>\\      <td>2</td>\\      <td>34</td>\\      <td>-1</td>\\      <td>-1</td>\\      <td>2</td>\\      <td>-1</td>\\      <td>-1</td>\\      <td>-2</td>\\      <td>1278.0</td>\\      <td>1278.0</td>\\      <td>639.0</td>\\      <td>621.0</td>\\      <td>1</td>\\    </tr>\\    <tr>\\      <th>19670</th>\\      <td>19671</td>\\      <td>60000</td>\\      <td>2</td>\\      <td>2</td>\\      <td>1</td>\\      <td>44</td>\\      <td>1</td>\\      <td>2</td>\\      <td>0</td>\\      <td>0</td>\\      <td>0</td>\\      <td>0</td>\\      <td>57244.0</td>\\      <td>57244.0</td>\\      <td>47551.0</td>\\      <td>36795.0</td>\\      <td>0</td>\\    </tr>\\    <tr>\\      <th>5190</th>\\      <td>5191</td>\\      <td>100000</td>\\      <td>2</td>\\      <td>2</td>\\      <td>2</td>\\      <td>30</td>\\      <td>1</td>\\      <td>-2</td>\\      <td>-2</td>\\      <td>-1</td>\\      <td>2</td>\\      <td>0</td>\\      <td>0.0</td>\\      <td>0.0</td>\\      <td>0.0</td>\\      <td>1378.0</td>\\      <td>0</td>\\    </tr>\\    <tr>\\      <th>5726</th>\\      <td>5727</td>\\      <td>120000</td>\\      <td>2</td>\\      <td>2</td>\\      <td>3</td>\\      <td>37</td>\\      <td>2</td>\\      <td>2</td>\\      <td>2</td>\\      <td>2</td>\\      <td>2</td>\\      <td>2</td>\\      <td>27719.0</td>\\      <td>27719.0</td>\\      <td>27570.0</td>\\      <td>28318.0</td>\\      <td>1</td>\\    </tr>\\    <tr>\\      <th>12837</th>\\      <td>12838</td>\\      <td>150000</td>\\      <td>2</td>\\      <td>2</td>\\      <td>2</td>\\      <td>23</td>\\      <td>0</td>\\      <td>0</td>\\      <td>0</td>\\      <td>0</td>\\      <td>0</td>\\      <td>0</td>\\      <td>111447.0</td>\\      <td>111447.0</td>\\      <td>103317.0</td>\\      <td>96140.0</td>\\      <td>0</td>\\    </tr>\\    <tr>\\      <th>26326</th>\\      <td>26327</td>\\      <td>160000</td>\\      <td>2</td>\\      <td>1</td>\\      <td>1</td>\\      <td>47</td>\\      <td>1</td>\\      <td>2</td>\\      <td>0</td>\\      <td>0</td>\\      <td>2</td>\\      <td>0</td>\\      <td>86694.0</td>\\      <td>86694.0</td>\\      <td>88898.0</td>\\      <td>94289.0</td>\\      <td>1</td>\\    </tr>\\    <tr>\\      <th>14480</th>\\      <td>14481</td>\\      <td>50000</td>\\      <td>1</td>\\      <td>2</td>\\      <td>1</td>\\      <td>29</td>\\      <td>0</td>\\      <td>0</td>\\      <td>0</td>\\      <td>0</td>\\      <td>0</td>\\      <td>0</td>\\      <td>47359.0</td>\\      <td>47359.0</td>\\      <td>45517.0</td>\\      <td>29699.0</td>\\      <td>1</td>\\    </tr>\\    <tr>\\      <th>20840</th>\\      <td>20841</td>\\      <td>500000</td>\\      <td>1</td>\\      <td>1</td>\\      <td>1</td>\\      <td>41</td>\\      <td>0</td>\\      <td>0</td>\\      <td>2</td>\\      <td>2</td>\\      <td>-1</td>\\      <td>2</td>\\      <td>63485.0</td>\\      <td>63485.0</td>\\      <td>2015.0</td>\\      <td>-121.0</td>\\      <td>0</td>\\    </tr>\\    <tr>\\      <th>5182</th>\\      <td>5183</td>\\      <td>150000</td>\\      <td>2</td>\\      <td>1</td>\\      <td>1</td>\\      <td>36</td>\\      <td>-1</td>\\      <td>-1</td>\\      <td>-1</td>\\      <td>-1</td>\\      <td>-1</td>\\      <td>-1</td>\\      <td>17877.0</td>\\      <td>17877.0</td>\\      <td>25172.0</td>\\      <td>4694.0</td>\\      <td>0</td>\\    </tr>\\    <tr>\\      <th>9118</th>\\      <td>9119</td>\\      <td>160000</td>\\      <td>1</td>\\      <td>1</td>\\      <td>1</td>\\      <td>49</td>\\      <td>-1</td>\\      <td>-1</td>\\      <td>2</td>\\      <td>-1</td>\\      <td>-1</td>\\      <td>-1</td>\\      <td>632.0</td>\\      <td>632.0</td>\\      <td>316.0</td>\\      <td>316.0</td>\\      <td>1</td>\\    </tr>\\    <tr>\\      <th>4845</th>\\      <td>4846</td>\\      <td>170000</td>\\      <td>1</td>\\      <td>2</td>\\      <td>2</td>\\      <td>34</td>\\      <td>-1</td>\\      <td>-1</td>\\      <td>-1</td>\\      <td>-1</td>\\      <td>-1</td>\\      <td>-1</td>\\      <td>326.0</td>\\      <td>326.0</td>\\      <td>676.0</td>\\      <td>326.0</td>\\      <td>1</td>\\    </tr>\\    <tr>\\      <th>24211</th>\\      <td>24212</td>\\      <td>470000</td>\\      <td>1</td>\\      <td>1</td>\\      <td>2</td>\\      <td>30</td>\\      <td>-2</td>\\      <td>-2</td>\\      <td>-2</td>\\      <td>-2</td>\\      <td>-2</td>\\      <td>-2</td>\\      <td>3285.0</td>\\      <td>3285.0</td>\\      <td>5103.0</td>\\      <td>9258.0</td>\\      <td>0</td>\\    </tr>\\    <tr>\\      <th>26108</th>\\      <td>26109</td>\\      <td>100000</td>\\      <td>2</td>\\      <td>1</td>\\      <td>1</td>\\      <td>27</td>\\      <td>1</td>\\      <td>2</td>\\      <td>0</td>\\      <td>0</td>\\      <td>0</td>\\      <td>0</td>\\      <td>75513.0</td>\\      <td>75513.0</td>\\      <td>77147.0</td>\\      <td>78200.0</td>\\      <td>1</td>\\    </tr>\\    <tr>\\      <th>12625</th>\\      <td>12626</td>\\      <td>200000</td>\\      <td>2</td>\\      <td>1</td>\\      <td>2</td>\\      <td>26</td>\\      <td>0</td>\\      <td>0</td>\\      <td>0</td>\\      <td>0</td>\\      <td>0</td>\\      <td>0</td>\\      <td>103114.0</td>\\      <td>103114.0</td>\\      <td>85698.0</td>\\      <td>64423.0</td>\\      <td>0</td>\\    </tr>\\    <tr>\\      <th>26838</th>\\      <td>26839</td>\\      <td>470000</td>\\      <td>1</td>\\      <td>2</td>\\      <td>2</td>\\      <td>35</td>\\      <td>0</td>\\      <td>0</td>\\      <td>0</td>\\      <td>-1</td>\\      <td>-1</td>\\      <td>-2</td>\\      <td>204078.0</td>\\      <td>204078.0</td>\\      <td>78325.0</td>\\      <td>119866.0</td>\\      <td>0</td>\\    </tr>\\    <tr>\\      <th>22508</th>\\      <td>22509</td>\\      <td>400000</td>\\      <td>2</td>\\      <td>2</td>\\      <td>1</td>\\      <td>41</td>\\      <td>0</td>\\      <td>0</td>\\      <td>0</td>\\      <td>0</td>\\      <td>0</td>\\      <td>0</td>\\      <td>12730.0</td>\\      <td>12730.0</td>\\      <td>14486.0</td>\\      <td>13419.0</td>\\      <td>0</td>\\    </tr>\\    <tr>\\      <th>21994</th>\\      <td>21995</td>\\      <td>170000</td>\\      <td>2</td>\\      <td>1</td>\\      <td>2</td>\\      <td>26</td>\\      <td>0</td>\\      <td>0</td>\\      <td>0</td>\\      <td>0</td>\\      <td>0</td>\\      <td>0</td>\\      <td>13827.0</td>\\      <td>13827.0</td>\\      <td>9522.0</td>\\      <td>10254.0</td>\\      <td>0</td>\\    </tr>\\    <tr>\\      <th>12075</th>\\      <td>12076</td>\\      <td>120000</td>\\      <td>2</td>\\      <td>2</td>\\      <td>1</td>\\      <td>42</td>\\      <td>-1</td>\\      <td>-1</td>\\      <td>-1</td>\\      <td>-1</td>\\      <td>-1</td>\\      <td>-1</td>\\      <td>499.0</td>\\      <td>499.0</td>\\      <td>499.0</td>\\      <td>499.0</td>\\      <td>0</td>\\    </tr>\\    <tr>\\      <th>3813</th>\\      <td>3814</td>\\      <td>60000</td>\\      <td>2</td>\\      <td>2</td>\\      <td>1</td>\\      <td>42</td>\\      <td>0</td>\\      <td>0</td>\\      <td>0</td>\\      <td>0</td>\\      <td>0</td>\\      <td>0</td>\\      <td>57923.0</td>\\      <td>57923.0</td>\\      <td>58987.0</td>\\      <td>17350.0</td>\\      <td>0</td>\\    </tr>\\    <tr>\\      <th>24596</th>\\      <td>24597</td>\\      <td>60000</td>\\      <td>1</td>\\      <td>2</td>\\      <td>1</td>\\      <td>45</td>\\      <td>0</td>\\      <td>0</td>\\      <td>0</td>\\      <td>0</td>\\      <td>0</td>\\      <td>0</td>\\      <td>60776.0</td>\\      <td>60776.0</td>\\      <td>49802.0</td>\\      <td>50965.0</td>\\      <td>1</td>\\    </tr>\\    <tr>\\      <th>10851</th>\\      <td>10852</td>\\      <td>140000</td>\\      <td>1</td>\\      <td>1</td>\\      <td>2</td>\\      <td>29</td>\\      <td>-2</td>\\      <td>-2</td>\\      <td>-2</td>\\      <td>-2</td>\\      <td>-2</td>\\      <td>-2</td>\\      <td>700.0</td>\\      <td>700.0</td>\\      <td>700.0</td>\\      <td>3105.0</td>\\      <td>0</td>\\    </tr>\\    <tr>\\      <th>14793</th>\\      <td>14794</td>\\      <td>20000</td>\\      <td>1</td>\\      <td>1</td>\\      <td>2</td>\\      <td>25</td>\\      <td>2</td>\\      <td>2</td>\\      <td>4</td>\\      <td>4</td>\\      <td>3</td>\\      <td>2</td>\\      <td>6888.0</td>\\      <td>6888.0</td>\\      <td>7638.0</td>\\      <td>7388.0</td>\\      <td>1</td>\\    </tr>\\    <tr>\\      <th>29116</th>\\      <td>29117</td>\\      <td>20000</td>\\      <td>2</td>\\      <td>3</td>\\      <td>2</td>\\      <td>54</td>\\      <td>0</td>\\      <td>0</td>\\      <td>0</td>\\      <td>0</td>\\      <td>0</td>\\      <td>0</td>\\      <td>14308.0</td>\\      <td>14308.0</td>\\      <td>16856.0</td>\\      <td>18073.0</td>\\      <td>0</td>\\    </tr>\\    <tr>\\      <th>1203</th>\\      <td>1204</td>\\      <td>60000</td>\\      <td>2</td>\\      <td>2</td>\\      <td>2</td>\\      <td>23</td>\\      <td>2</td>\\      <td>2</td>\\      <td>-2</td>\\      <td>-2</td>\\      <td>-1</td>\\      <td>-1</td>\\      <td>0.0</td>\\      <td>0.0</td>\\      <td>0.0</td>\\      <td>0.0</td>\\      <td>0</td>\\    </tr>\\    <tr>\\      <th>8109</th>\\      <td>8110</td>\\      <td>420000</td>\\      <td>2</td>\\      <td>2</td>\\      <td>1</td>\\      <td>40</td>\\      <td>-2</td>\\      <td>-2</td>\\      <td>-2</td>\\      <td>-2</td>\\      <td>-2</td>\\      <td>-1</td>\\      <td>2892.0</td>\\      <td>2892.0</td>\\      <td>2890.0</td>\\      <td>3391.0</td>\\      <td>1</td>\\    </tr>\\    <tr>\\      <th>482</th>\\      <td>483</td>\\      <td>70000</td>\\      <td>2</td>\\      <td>2</td>\\      <td>2</td>\\      <td>28</td>\\      <td>0</td>\\      <td>0</td>\\      <td>0</td>\\      <td>0</td>\\      <td>-1</td>\\      <td>2</td>\\      <td>41799.0</td>\\      <td>41799.0</td>\\      <td>37887.0</td>\\      <td>37876.0</td>\\      <td>0</td>\\    </tr>\\    <tr>\\      <th>2382</th>\\      <td>2383</td>\\      <td>280000</td>\\      <td>1</td>\\      <td>1</td>\\      <td>1</td>\\      <td>51</td>\\      <td>-1</td>\\      <td>-1</td>\\      <td>-1</td>\\      <td>-1</td>\\      <td>-1</td>\\      <td>-1</td>\\      <td>445.0</td>\\      <td>445.0</td>\\      <td>393.0</td>\\      <td>294.0</td>\\      <td>0</td>\\    </tr>\\    <tr>\\      <th>7860</th>\\      <td>7861</td>\\      <td>50000</td>\\      <td>1</td>\\      <td>2</td>\\      <td>2</td>\\      <td>25</td>\\      <td>3</td>\\      <td>3</td>\\      <td>2</td>\\      <td>2</td>\\      <td>2</td>\\      <td>0</td>\\      <td>27274.0</td>\\      <td>27274.0</td>\\      <td>27529.0</td>\\      <td>28280.0</td>\\      <td>1</td>\\    </tr>\\    <tr>\\      <th>27129</th>\\      <td>27130</td>\\      <td>110000</td>\\      <td>1</td>\\      <td>2</td>\\      <td>1</td>\\      <td>42</td>\\      <td>0</td>\\      <td>0</td>\\      <td>0</td>\\      <td>0</td>\\      <td>2</td>\\      <td>2</td>\\      <td>74102.0</td>\\      <td>74102.0</td>\\      <td>77901.0</td>\\      <td>84592.0</td>\\      <td>1</td>\\    </tr>\\    <tr>\\      <th>1562</th>\\      <td>1563</td>\\      <td>140000</td>\\      <td>1</td>\\      <td>2</td>\\      <td>2</td>\\      <td>44</td>\\      <td>0</td>\\      <td>0</td>\\      <td>0</td>\\      <td>0</td>\\      <td>0</td>\\      <td>0</td>\\      <td>105021.0</td>\\      <td>105021.0</td>\\      <td>107659.0</td>\\      <td>109104.0</td>\\      <td>0</td>\\    </tr>\\    <tr>\\      <th>12347</th>\\      <td>12348</td>\\      <td>130000</td>\\      <td>2</td>\\      <td>2</td>\\      <td>1</td>\\      <td>46</td>\\      <td>0</td>\\      <td>0</td>\\      <td>0</td>\\      <td>-2</td>\\      <td>-2</td>\\      <td>-2</td>\\      <td>124900.0</td>\\      <td>124900.0</td>\\      <td>0.0</td>\\      <td>0.0</td>\\      <td>0</td>\\    </tr>\\    <tr>\\      <th>11649</th>\\      <td>11650</td>\\      <td>290000</td>\\      <td>1</td>\\      <td>2</td>\\      <td>1</td>\\      <td>48</td>\\      <td>-2</td>\\      <td>-2</td>\\      <td>-2</td>\\      <td>-2</td>\\      <td>-2</td>\\      <td>-2</td>\\      <td>4426.0</td>\\      <td>4426.0</td>\\      <td>820.0</td>\\      <td>0.0</td>\\      <td>1</td>\\    </tr>\\    <tr>\\      <th>14903</th>\\      <td>14904</td>\\      <td>220000</td>\\      <td>2</td>\\      <td>3</td>\\      <td>1</td>\\      <td>32</td>\\      <td>-1</td>\\      <td>0</td>\\      <td>0</td>\\      <td>0</td>\\      <td>0</td>\\      <td>0</td>\\      <td>9509.0</td>\\      <td>9509.0</td>\\      <td>9110.0</td>\\      <td>6401.0</td>\\      <td>0</td>\\    </tr>\\    <tr>\\      <th>2786</th>\\      <td>2787</td>\\      <td>20000</td>\\      <td>1</td>\\      <td>3</td>\\      <td>1</td>\\      <td>31</td>\\      <td>0</td>\\      <td>0</td>\\      <td>0</td>\\      <td>0</td>\\      <td>0</td>\\      <td>-2</td>\\      <td>18739.0</td>\\      <td>18739.0</td>\\      <td>19473.0</td>\\      <td>17136.0</td>\\      <td>0</td>\\    </tr>\\    <tr>\\      <th>20352</th>\\      <td>20353</td>\\      <td>50000</td>\\      <td>1</td>\\      <td>1</td>\\      <td>2</td>\\      <td>29</td>\\      <td>-1</td>\\      <td>-1</td>\\      <td>-2</td>\\      <td>-2</td>\\      <td>-2</td>\\      <td>-2</td>\\      <td>0.0</td>\\      <td>0.0</td>\\      <td>0.0</td>\\      <td>0.0</td>\\      <td>0</td>\\    </tr>\\    <tr>\\      <th>26486</th>\\      <td>26487</td>\\      <td>30000</td>\\      <td>2</td>\\      <td>3</td>\\      <td>1</td>\\      <td>55</td>\\      <td>1</td>\\      <td>2</td>\\      <td>0</td>\\      <td>0</td>\\      <td>0</td>\\      <td>0</td>\\      <td>29278.0</td>\\      <td>29278.0</td>\\      <td>30393.0</td>\\      <td>29785.0</td>\\      <td>1</td>\\    </tr>\\    <tr>\\      <th>3646</th>\\      <td>3647</td>\\      <td>220000</td>\\      <td>1</td>\\      <td>3</td>\\      <td>1</td>\\      <td>41</td>\\      <td>-2</td>\\      <td>-2</td>\\      <td>-2</td>\\      <td>-2</td>\\      <td>-2</td>\\      <td>-2</td>\\      <td>34407.0</td>\\      <td>34407.0</td>\\      <td>14510.0</td>\\      <td>7229.0</td>\\      <td>0</td>\\    </tr>\\    <tr>\\      <th>24546</th>\\      <td>24547</td>\\      <td>120000</td>\\      <td>1</td>\\      <td>2</td>\\      <td>1</td>\\      <td>39</td>\\      <td>-1</td>\\      <td>-1</td>\\      <td>-1</td>\\      <td>-1</td>\\      <td>-1</td>\\      <td>-1</td>\\      <td>0.0</td>\\      <td>0.0</td>\\      <td>10780.0</td>\\      <td>0.0</td>\\      <td>0</td>\\    </tr>\\    <tr>\\      <th>18118</th>\\      <td>18119</td>\\      <td>210000</td>\\      <td>1</td>\\      <td>2</td>\\      <td>1</td>\\      <td>48</td>\\      <td>0</td>\\      <td>0</td>\\      <td>0</td>\\      <td>0</td>\\      <td>0</td>\\      <td>0</td>\\      <td>169351.0</td>\\      <td>169351.0</td>\\      <td>163576.0</td>\\      <td>115854.0</td>\\      <td>0</td>\\    </tr>\\    <tr>\\      <th>18879</th>\\      <td>18880</td>\\      <td>300000</td>\\      <td>2</td>\\      <td>1</td>\\      <td>2</td>\\      <td>28</td>\\      <td>1</td>\\      <td>-2</td>\\      <td>-2</td>\\      <td>-2</td>\\      <td>-2</td>\\      <td>-2</td>\\      <td>0.0</td>\\      <td>0.0</td>\\      <td>0.0</td>\\      <td>0.0</td>\\      <td>0</td>\\    </tr>\\    <tr>\\      <th>28408</th>\\      <td>28409</td>\\      <td>250000</td>\\      <td>2</td>\\      <td>1</td>\\      <td>2</td>\\      <td>28</td>\\      <td>0</td>\\      <td>0</td>\\      <td>0</td>\\      <td>0</td>\\      <td>0</td>\\      <td>0</td>\\      <td>109714.0</td>\\      <td>109714.0</td>\\      <td>101494.0</td>\\      <td>92258.0</td>\\      <td>0</td>\\    </tr>\\    <tr>\\      <th>29863</th>\\      <td>29864</td>\\      <td>80000</td>\\      <td>1</td>\\      <td>1</td>\\      <td>2</td>\\      <td>44</td>\\      <td>0</td>\\      <td>0</td>\\      <td>0</td>\\      <td>0</td>\\      <td>0</td>\\      <td>0</td>\\      <td>77494.0</td>\\      <td>77494.0</td>\\      <td>77438.0</td>\\      <td>67054.0</td>\\      <td>0</td>\\    </tr>\\    <tr>\\      <th>5159</th>\\      <td>5160</td>\\      <td>400000</td>\\      <td>2</td>\\      <td>1</td>\\      <td>2</td>\\      <td>28</td>\\      <td>-1</td>\\      <td>0</td>\\      <td>-1</td>\\      <td>0</td>\\      <td>0</td>\\      <td>0</td>\\      <td>1548.0</td>\\      <td>1548.0</td>\\      <td>22085.0</td>\\      <td>21021.0</td>\\      <td>0</td>\\    </tr>\\    <tr>\\      <th>1177</th>\\      <td>1178</td>\\      <td>170000</td>\\      <td>2</td>\\      <td>2</td>\\      <td>2</td>\\      <td>27</td>\\      <td>0</td>\\      <td>0</td>\\      <td>0</td>\\      <td>0</td>\\      <td>0</td>\\      <td>0</td>\\      <td>78520.0</td>\\      <td>78520.0</td>\\      <td>80131.0</td>\\      <td>70788.0</td>\\      <td>0</td>\\    </tr>\\    <tr>\\      <th>14379</th>\\      <td>14380</td>\\      <td>160000</td>\\      <td>1</td>\\      <td>3</td>\\      <td>2</td>\\      <td>35</td>\\      <td>0</td>\\      <td>0</td>\\      <td>0</td>\\      <td>0</td>\\      <td>0</td>\\      <td>0</td>\\      <td>39217.0</td>\\      <td>39217.0</td>\\      <td>40537.0</td>\\      <td>41030.0</td>\\      <td>0</td>\\    </tr>\\    <tr>\\      <th>2599</th>\\      <td>2600</td>\\      <td>500000</td>\\      <td>1</td>\\      <td>1</td>\\      <td>1</td>\\      <td>43</td>\\      <td>-1</td>\\      <td>-1</td>\\      <td>-1</td>\\      <td>-1</td>\\      <td>-1</td>\\      <td>-1</td>\\      <td>600.0</td>\\      <td>600.0</td>\\      <td>1490.0</td>\\      <td>1822.0</td>\\      <td>0</td>\\    </tr>\\    <tr>\\      <th>29396</th>\\      <td>29397</td>\\      <td>240000</td>\\      <td>1</td>\\      <td>1</td>\\      <td>2</td>\\      <td>28</td>\\      <td>0</td>\\      <td>0</td>\\      <td>0</td>\\      <td>0</td>\\      <td>0</td>\\      <td>0</td>\\      <td>231891.0</td>\\      <td>231891.0</td>\\      <td>240146.0</td>\\      <td>245552.0</td>\\      <td>0</td>\\    </tr>\\  </tbody>\\</table><style>\\    table { border-collapse: collapse; border: 3px solid #eee; }\\    table tr th:first-child { background-color: #eeeeee; color: #333; font-weight: bold }\\    table thead th { background-color: #eee; color: #000; }\\    tr, th, td { border: 1px solid #ccc; border-width: 1px 0 0 1px; border-collapse: collapse;\\    padding: 3px; font-family: monospace; font-size: 10px }</style>\\    ';</script><style>\n",
       "    table { border-collapse: collapse; border: 3px solid #eee; }\n",
       "    table tr th:first-child { background-color: #eeeeee; color: #333; font-weight: bold }\n",
       "    table thead th { background-color: #eee; color: #000; }\n",
       "    tr, th, td { border: 1px solid #ccc; border-width: 1px 0 0 1px; border-collapse: collapse;\n",
       "    padding: 3px; font-family: monospace; font-size: 10px }</style>\n",
       "    "
      ],
      "text/plain": [
       "<IPython.core.display.HTML object>"
      ]
     },
     "execution_count": 16,
     "metadata": {},
     "output_type": "execute_result"
    }
   ],
   "source": [
    "from IPython.display import HTML\n",
    "def View(df):\n",
    "    css = \"\"\"<style>\n",
    "    table { border-collapse: collapse; border: 3px solid #eee; }\n",
    "    table tr th:first-child { background-color: #eeeeee; color: #333; font-weight: bold }\n",
    "    table thead th { background-color: #eee; color: #000; }\n",
    "    tr, th, td { border: 1px solid #ccc; border-width: 1px 0 0 1px; border-collapse: collapse;\n",
    "    padding: 3px; font-family: monospace; font-size: 10px }</style>\n",
    "    \"\"\"\n",
    "    s  = '<script type=\"text/Javascript\">'\n",
    "    s += 'var win = window.open(\"\", \"Title\", \"toolbar=no, location=no, directories=no, status=no, menubar=no, scrollbars=yes, resizable=yes, width=780, height=200, top=\"+(screen.height-400)+\", left=\"+(screen.width-840));'\n",
    "    s += 'win.document.body.innerHTML = \\'' + (df.to_html() + css).replace(\"\\n\",'\\\\') + '\\';'\n",
    "    s += '</script>'\n",
    "    return(HTML(s+css))\n",
    "\n",
    "View(base_dataset.sample(100))"
   ]
  },
  {
   "cell_type": "code",
   "execution_count": 17,
   "metadata": {},
   "outputs": [
    {
     "data": {
      "text/html": [
       "<script type=\"text/Javascript\">var win = window.open(\"\", \"Title\", \"toolbar=no, location=no, directories=no, status=no, menubar=no, scrollbars=yes, resizable=yes, width=780, height=200, top=\"+(screen.height-400)+\", left=\"+(screen.width-840));win.document.body.innerHTML = '<table border=\"1\" class=\"dataframe\">\\  <thead>\\    <tr style=\"text-align: right;\">\\      <th></th>\\      <th>Patient Id</th>\\      <th>RBCount</th>\\      <th>SEX</th>\\      <th>EDUCATION</th>\\      <th>MARRIAGE</th>\\      <th>AGE</th>\\      <th>Eithinicity</th>\\      <th>Kidney Disfunction</th>\\      <th>Symptoms</th>\\      <th>CCIS</th>\\      <th>Disturbance of Equalibirum</th>\\      <th>Blood Flow levels</th>\\      <th>BMI Index</th>\\      <th>Shotness of Breath</th>\\      <th>Uremia Levels</th>\\      <th>Urine Color</th>\\      <th>ESRD Disease</th>\\    </tr>\\  </thead>\\  <tbody>\\    <tr>\\      <th>23519</th>\\      <td>23520</td>\\      <td>350000</td>\\      <td>2</td>\\      <td>1</td>\\      <td>1</td>\\      <td>36</td>\\      <td>-1</td>\\      <td>-1</td>\\      <td>-1</td>\\      <td>2</td>\\      <td>-1</td>\\      <td>-1</td>\\      <td>326.0</td>\\      <td>326.0</td>\\      <td>652.0</td>\\      <td>326.0</td>\\      <td>0</td>\\    </tr>\\    <tr>\\      <th>11434</th>\\      <td>11435</td>\\      <td>220000</td>\\      <td>2</td>\\      <td>2</td>\\      <td>3</td>\\      <td>50</td>\\      <td>0</td>\\      <td>0</td>\\      <td>0</td>\\      <td>0</td>\\      <td>0</td>\\      <td>0</td>\\      <td>116768.0</td>\\      <td>116768.0</td>\\      <td>55863.0</td>\\      <td>57079.0</td>\\      <td>0</td>\\    </tr>\\    <tr>\\      <th>29994</th>\\      <td>29995</td>\\      <td>80000</td>\\      <td>1</td>\\      <td>2</td>\\      <td>2</td>\\      <td>34</td>\\      <td>2</td>\\      <td>2</td>\\      <td>2</td>\\      <td>2</td>\\      <td>2</td>\\      <td>2</td>\\      <td>77708.0</td>\\      <td>77708.0</td>\\      <td>79384.0</td>\\      <td>77519.0</td>\\      <td>1</td>\\    </tr>\\    <tr>\\      <th>5563</th>\\      <td>5564</td>\\      <td>210000</td>\\      <td>2</td>\\      <td>1</td>\\      <td>2</td>\\      <td>25</td>\\      <td>-1</td>\\      <td>-1</td>\\      <td>-1</td>\\      <td>0</td>\\      <td>0</td>\\      <td>0</td>\\      <td>1837.0</td>\\      <td>1837.0</td>\\      <td>141555.0</td>\\      <td>140550.0</td>\\      <td>0</td>\\    </tr>\\    <tr>\\      <th>22102</th>\\      <td>22103</td>\\      <td>50000</td>\\      <td>2</td>\\      <td>1</td>\\      <td>2</td>\\      <td>29</td>\\      <td>0</td>\\      <td>0</td>\\      <td>0</td>\\      <td>0</td>\\      <td>0</td>\\      <td>0</td>\\      <td>41897.0</td>\\      <td>41897.0</td>\\      <td>17304.0</td>\\      <td>16544.0</td>\\      <td>0</td>\\    </tr>\\    <tr>\\      <th>16825</th>\\      <td>16826</td>\\      <td>100000</td>\\      <td>1</td>\\      <td>2</td>\\      <td>2</td>\\      <td>44</td>\\      <td>0</td>\\      <td>0</td>\\      <td>0</td>\\      <td>-1</td>\\      <td>-1</td>\\      <td>0</td>\\      <td>6882.0</td>\\      <td>6882.0</td>\\      <td>2456.0</td>\\      <td>1537.0</td>\\      <td>1</td>\\    </tr>\\    <tr>\\      <th>21379</th>\\      <td>21380</td>\\      <td>70000</td>\\      <td>1</td>\\      <td>1</td>\\      <td>1</td>\\      <td>54</td>\\      <td>-1</td>\\      <td>-1</td>\\      <td>-1</td>\\      <td>-1</td>\\      <td>0</td>\\      <td>0</td>\\      <td>1261.0</td>\\      <td>1261.0</td>\\      <td>390.0</td>\\      <td>780.0</td>\\      <td>0</td>\\    </tr>\\    <tr>\\      <th>7078</th>\\      <td>7079</td>\\      <td>320000</td>\\      <td>2</td>\\      <td>2</td>\\      <td>1</td>\\      <td>43</td>\\      <td>0</td>\\      <td>0</td>\\      <td>0</td>\\      <td>0</td>\\      <td>0</td>\\      <td>0</td>\\      <td>186444.0</td>\\      <td>186444.0</td>\\      <td>188596.0</td>\\      <td>192145.0</td>\\      <td>0</td>\\    </tr>\\    <tr>\\      <th>6772</th>\\      <td>6773</td>\\      <td>110000</td>\\      <td>2</td>\\      <td>3</td>\\      <td>2</td>\\      <td>46</td>\\      <td>0</td>\\      <td>0</td>\\      <td>0</td>\\      <td>0</td>\\      <td>0</td>\\      <td>0</td>\\      <td>47104.0</td>\\      <td>47104.0</td>\\      <td>48325.0</td>\\      <td>0.0</td>\\      <td>0</td>\\    </tr>\\    <tr>\\      <th>10580</th>\\      <td>10581</td>\\      <td>290000</td>\\      <td>1</td>\\      <td>1</td>\\      <td>1</td>\\      <td>47</td>\\      <td>-2</td>\\      <td>-2</td>\\      <td>-2</td>\\      <td>-2</td>\\      <td>-2</td>\\      <td>-2</td>\\      <td>18019.0</td>\\      <td>18019.0</td>\\      <td>4516.0</td>\\      <td>8140.0</td>\\      <td>0</td>\\    </tr>\\    <tr>\\      <th>14789</th>\\      <td>14790</td>\\      <td>50000</td>\\      <td>1</td>\\      <td>2</td>\\      <td>3</td>\\      <td>41</td>\\      <td>-1</td>\\      <td>-1</td>\\      <td>0</td>\\      <td>0</td>\\      <td>0</td>\\      <td>0</td>\\      <td>12667.0</td>\\      <td>12667.0</td>\\      <td>6713.0</td>\\      <td>6452.0</td>\\      <td>0</td>\\    </tr>\\    <tr>\\      <th>27911</th>\\      <td>27912</td>\\      <td>180000</td>\\      <td>2</td>\\      <td>2</td>\\      <td>1</td>\\      <td>26</td>\\      <td>-1</td>\\      <td>0</td>\\      <td>0</td>\\      <td>2</td>\\      <td>-1</td>\\      <td>-1</td>\\      <td>5080.0</td>\\      <td>5080.0</td>\\      <td>9227.0</td>\\      <td>3235.0</td>\\      <td>0</td>\\    </tr>\\    <tr>\\      <th>11883</th>\\      <td>11884</td>\\      <td>290000</td>\\      <td>1</td>\\      <td>1</td>\\      <td>1</td>\\      <td>49</td>\\      <td>-1</td>\\      <td>-1</td>\\      <td>-1</td>\\      <td>0</td>\\      <td>-1</td>\\      <td>-1</td>\\      <td>28420.0</td>\\      <td>28420.0</td>\\      <td>7051.0</td>\\      <td>20356.0</td>\\      <td>0</td>\\    </tr>\\    <tr>\\      <th>25059</th>\\      <td>25060</td>\\      <td>360000</td>\\      <td>1</td>\\      <td>1</td>\\      <td>1</td>\\      <td>49</td>\\      <td>-1</td>\\      <td>-1</td>\\      <td>-2</td>\\      <td>-2</td>\\      <td>-1</td>\\      <td>2</td>\\      <td>-200.0</td>\\      <td>-200.0</td>\\      <td>-200.0</td>\\      <td>0.0</td>\\      <td>1</td>\\    </tr>\\    <tr>\\      <th>4761</th>\\      <td>4762</td>\\      <td>160000</td>\\      <td>1</td>\\      <td>3</td>\\      <td>2</td>\\      <td>30</td>\\      <td>0</td>\\      <td>0</td>\\      <td>0</td>\\      <td>0</td>\\      <td>0</td>\\      <td>0</td>\\      <td>175167.0</td>\\      <td>175167.0</td>\\      <td>127848.0</td>\\      <td>96066.0</td>\\      <td>0</td>\\    </tr>\\    <tr>\\      <th>9771</th>\\      <td>9772</td>\\      <td>310000</td>\\      <td>2</td>\\      <td>1</td>\\      <td>1</td>\\      <td>30</td>\\      <td>0</td>\\      <td>0</td>\\      <td>0</td>\\      <td>0</td>\\      <td>0</td>\\      <td>0</td>\\      <td>28020.0</td>\\      <td>28020.0</td>\\      <td>31140.0</td>\\      <td>27695.0</td>\\      <td>0</td>\\    </tr>\\    <tr>\\      <th>1354</th>\\      <td>1355</td>\\      <td>50000</td>\\      <td>2</td>\\      <td>2</td>\\      <td>1</td>\\      <td>27</td>\\      <td>0</td>\\      <td>0</td>\\      <td>0</td>\\      <td>0</td>\\      <td>0</td>\\      <td>0</td>\\      <td>10800.0</td>\\      <td>10800.0</td>\\      <td>5921.0</td>\\      <td>6042.0</td>\\      <td>0</td>\\    </tr>\\    <tr>\\      <th>16529</th>\\      <td>16530</td>\\      <td>390000</td>\\      <td>1</td>\\      <td>1</td>\\      <td>2</td>\\      <td>27</td>\\      <td>0</td>\\      <td>0</td>\\      <td>0</td>\\      <td>0</td>\\      <td>0</td>\\      <td>0</td>\\      <td>377692.0</td>\\      <td>377692.0</td>\\      <td>337892.0</td>\\      <td>298729.0</td>\\      <td>0</td>\\    </tr>\\    <tr>\\      <th>29297</th>\\      <td>29298</td>\\      <td>70000</td>\\      <td>1</td>\\      <td>2</td>\\      <td>2</td>\\      <td>25</td>\\      <td>0</td>\\      <td>-1</td>\\      <td>-1</td>\\      <td>-1</td>\\      <td>-2</td>\\      <td>-2</td>\\      <td>21597.0</td>\\      <td>21597.0</td>\\      <td>3340.0</td>\\      <td>0.0</td>\\      <td>0</td>\\    </tr>\\    <tr>\\      <th>21744</th>\\      <td>21745</td>\\      <td>150000</td>\\      <td>2</td>\\      <td>1</td>\\      <td>2</td>\\      <td>23</td>\\      <td>-2</td>\\      <td>-2</td>\\      <td>-2</td>\\      <td>-2</td>\\      <td>-2</td>\\      <td>-2</td>\\      <td>0.0</td>\\      <td>0.0</td>\\      <td>0.0</td>\\      <td>0.0</td>\\      <td>0</td>\\    </tr>\\    <tr>\\      <th>5064</th>\\      <td>5065</td>\\      <td>20000</td>\\      <td>1</td>\\      <td>2</td>\\      <td>1</td>\\      <td>53</td>\\      <td>0</td>\\      <td>0</td>\\      <td>2</td>\\      <td>2</td>\\      <td>2</td>\\      <td>2</td>\\      <td>19752.0</td>\\      <td>19752.0</td>\\      <td>19112.0</td>\\      <td>20223.0</td>\\      <td>1</td>\\    </tr>\\    <tr>\\      <th>7727</th>\\      <td>7728</td>\\      <td>200000</td>\\      <td>2</td>\\      <td>1</td>\\      <td>1</td>\\      <td>49</td>\\      <td>-1</td>\\      <td>-1</td>\\      <td>-2</td>\\      <td>-2</td>\\      <td>-2</td>\\      <td>-2</td>\\      <td>-61.0</td>\\      <td>-61.0</td>\\      <td>-61.0</td>\\      <td>-61.0</td>\\      <td>0</td>\\    </tr>\\    <tr>\\      <th>22357</th>\\      <td>22358</td>\\      <td>400000</td>\\      <td>2</td>\\      <td>2</td>\\      <td>2</td>\\      <td>32</td>\\      <td>-2</td>\\      <td>-2</td>\\      <td>-2</td>\\      <td>-2</td>\\      <td>-2</td>\\      <td>-2</td>\\      <td>626.0</td>\\      <td>626.0</td>\\      <td>118.0</td>\\      <td>10349.0</td>\\      <td>0</td>\\    </tr>\\    <tr>\\      <th>22647</th>\\      <td>22648</td>\\      <td>60000</td>\\      <td>2</td>\\      <td>2</td>\\      <td>1</td>\\      <td>47</td>\\      <td>2</td>\\      <td>2</td>\\      <td>2</td>\\      <td>2</td>\\      <td>0</td>\\      <td>0</td>\\      <td>29104.0</td>\\      <td>29104.0</td>\\      <td>30027.0</td>\\      <td>28928.0</td>\\      <td>1</td>\\    </tr>\\    <tr>\\      <th>10066</th>\\      <td>10067</td>\\      <td>30000</td>\\      <td>2</td>\\      <td>2</td>\\      <td>1</td>\\      <td>34</td>\\      <td>2</td>\\      <td>2</td>\\      <td>0</td>\\      <td>0</td>\\      <td>0</td>\\      <td>0</td>\\      <td>29315.0</td>\\      <td>29315.0</td>\\      <td>30369.0</td>\\      <td>29787.0</td>\\      <td>0</td>\\    </tr>\\    <tr>\\      <th>5166</th>\\      <td>5167</td>\\      <td>330000</td>\\      <td>1</td>\\      <td>1</td>\\      <td>1</td>\\      <td>37</td>\\      <td>-1</td>\\      <td>-1</td>\\      <td>-1</td>\\      <td>-1</td>\\      <td>-2</td>\\      <td>-2</td>\\      <td>-1.0</td>\\      <td>-1.0</td>\\      <td>176.0</td>\\      <td>0.0</td>\\      <td>0</td>\\    </tr>\\    <tr>\\      <th>21470</th>\\      <td>21471</td>\\      <td>50000</td>\\      <td>2</td>\\      <td>2</td>\\      <td>2</td>\\      <td>26</td>\\      <td>1</td>\\      <td>2</td>\\      <td>2</td>\\      <td>2</td>\\      <td>2</td>\\      <td>-2</td>\\      <td>44419.0</td>\\      <td>44419.0</td>\\      <td>42521.0</td>\\      <td>38517.0</td>\\      <td>1</td>\\    </tr>\\    <tr>\\      <th>4026</th>\\      <td>4027</td>\\      <td>260000</td>\\      <td>2</td>\\      <td>2</td>\\      <td>2</td>\\      <td>29</td>\\      <td>-1</td>\\      <td>-1</td>\\      <td>-1</td>\\      <td>-1</td>\\      <td>-1</td>\\      <td>-1</td>\\      <td>553.0</td>\\      <td>553.0</td>\\      <td>0.0</td>\\      <td>202.0</td>\\      <td>0</td>\\    </tr>\\    <tr>\\      <th>1018</th>\\      <td>1019</td>\\      <td>240000</td>\\      <td>2</td>\\      <td>3</td>\\      <td>1</td>\\      <td>40</td>\\      <td>1</td>\\      <td>-2</td>\\      <td>-1</td>\\      <td>-1</td>\\      <td>-1</td>\\      <td>-1</td>\\      <td>-55.0</td>\\      <td>-55.0</td>\\      <td>3545.0</td>\\      <td>1338.0</td>\\      <td>0</td>\\    </tr>\\    <tr>\\      <th>19650</th>\\      <td>19651</td>\\      <td>200000</td>\\      <td>2</td>\\      <td>2</td>\\      <td>1</td>\\      <td>32</td>\\      <td>0</td>\\      <td>0</td>\\      <td>0</td>\\      <td>0</td>\\      <td>0</td>\\      <td>0</td>\\      <td>51427.0</td>\\      <td>51427.0</td>\\      <td>52672.0</td>\\      <td>53682.0</td>\\      <td>0</td>\\    </tr>\\    <tr>\\      <th>25286</th>\\      <td>25287</td>\\      <td>80000</td>\\      <td>2</td>\\      <td>2</td>\\      <td>1</td>\\      <td>26</td>\\      <td>2</td>\\      <td>0</td>\\      <td>0</td>\\      <td>0</td>\\      <td>0</td>\\      <td>0</td>\\      <td>79611.0</td>\\      <td>79611.0</td>\\      <td>80770.0</td>\\      <td>53142.0</td>\\      <td>0</td>\\    </tr>\\    <tr>\\      <th>23959</th>\\      <td>23960</td>\\      <td>20000</td>\\      <td>1</td>\\      <td>1</td>\\      <td>2</td>\\      <td>24</td>\\      <td>1</td>\\      <td>-1</td>\\      <td>-1</td>\\      <td>-2</td>\\      <td>-1</td>\\      <td>-1</td>\\      <td>541.0</td>\\      <td>541.0</td>\\      <td>275.0</td>\\      <td>329.0</td>\\      <td>0</td>\\    </tr>\\    <tr>\\      <th>19804</th>\\      <td>19805</td>\\      <td>230000</td>\\      <td>2</td>\\      <td>2</td>\\      <td>2</td>\\      <td>34</td>\\      <td>-2</td>\\      <td>-2</td>\\      <td>-2</td>\\      <td>-2</td>\\      <td>-2</td>\\      <td>-2</td>\\      <td>1518.0</td>\\      <td>1518.0</td>\\      <td>909.0</td>\\      <td>-1307.0</td>\\      <td>0</td>\\    </tr>\\    <tr>\\      <th>16196</th>\\      <td>16197</td>\\      <td>220000</td>\\      <td>2</td>\\      <td>2</td>\\      <td>2</td>\\      <td>32</td>\\      <td>0</td>\\      <td>0</td>\\      <td>0</td>\\      <td>0</td>\\      <td>0</td>\\      <td>0</td>\\      <td>96466.0</td>\\      <td>96466.0</td>\\      <td>99009.0</td>\\      <td>100462.0</td>\\      <td>0</td>\\    </tr>\\    <tr>\\      <th>18351</th>\\      <td>18352</td>\\      <td>20000</td>\\      <td>2</td>\\      <td>2</td>\\      <td>2</td>\\      <td>22</td>\\      <td>2</td>\\      <td>4</td>\\      <td>3</td>\\      <td>2</td>\\      <td>0</td>\\      <td>0</td>\\      <td>8350.0</td>\\      <td>8350.0</td>\\      <td>8076.0</td>\\      <td>7798.0</td>\\      <td>1</td>\\    </tr>\\    <tr>\\      <th>22461</th>\\      <td>22462</td>\\      <td>150000</td>\\      <td>2</td>\\      <td>6</td>\\      <td>2</td>\\      <td>40</td>\\      <td>0</td>\\      <td>0</td>\\      <td>0</td>\\      <td>0</td>\\      <td>0</td>\\      <td>-2</td>\\      <td>164305.0</td>\\      <td>164305.0</td>\\      <td>156201.0</td>\\      <td>149975.0</td>\\      <td>1</td>\\    </tr>\\    <tr>\\      <th>5845</th>\\      <td>5846</td>\\      <td>60000</td>\\      <td>2</td>\\      <td>2</td>\\      <td>1</td>\\      <td>59</td>\\      <td>4</td>\\      <td>4</td>\\      <td>5</td>\\      <td>4</td>\\      <td>3</td>\\      <td>2</td>\\      <td>59111.0</td>\\      <td>59111.0</td>\\      <td>59595.0</td>\\      <td>58079.0</td>\\      <td>0</td>\\    </tr>\\    <tr>\\      <th>15273</th>\\      <td>15274</td>\\      <td>150000</td>\\      <td>2</td>\\      <td>1</td>\\      <td>2</td>\\      <td>27</td>\\      <td>-1</td>\\      <td>-1</td>\\      <td>-1</td>\\      <td>-1</td>\\      <td>0</td>\\      <td>-1</td>\\      <td>4493.0</td>\\      <td>4493.0</td>\\      <td>11848.0</td>\\      <td>7435.0</td>\\      <td>0</td>\\    </tr>\\    <tr>\\      <th>21764</th>\\      <td>21765</td>\\      <td>320000</td>\\      <td>2</td>\\      <td>1</td>\\      <td>2</td>\\      <td>24</td>\\      <td>0</td>\\      <td>0</td>\\      <td>0</td>\\      <td>0</td>\\      <td>0</td>\\      <td>0</td>\\      <td>67516.0</td>\\      <td>67516.0</td>\\      <td>70774.0</td>\\      <td>70089.0</td>\\      <td>0</td>\\    </tr>\\    <tr>\\      <th>6923</th>\\      <td>6924</td>\\      <td>240000</td>\\      <td>1</td>\\      <td>1</td>\\      <td>1</td>\\      <td>43</td>\\      <td>-2</td>\\      <td>-2</td>\\      <td>-2</td>\\      <td>-2</td>\\      <td>-2</td>\\      <td>-2</td>\\      <td>9077.0</td>\\      <td>9077.0</td>\\      <td>4234.0</td>\\      <td>7118.0</td>\\      <td>0</td>\\    </tr>\\    <tr>\\      <th>15825</th>\\      <td>15826</td>\\      <td>20000</td>\\      <td>2</td>\\      <td>2</td>\\      <td>2</td>\\      <td>26</td>\\      <td>0</td>\\      <td>0</td>\\      <td>0</td>\\      <td>0</td>\\      <td>0</td>\\      <td>0</td>\\      <td>17938.0</td>\\      <td>17938.0</td>\\      <td>18798.0</td>\\      <td>19347.0</td>\\      <td>0</td>\\    </tr>\\    <tr>\\      <th>5785</th>\\      <td>5786</td>\\      <td>60000</td>\\      <td>1</td>\\      <td>2</td>\\      <td>2</td>\\      <td>26</td>\\      <td>2</td>\\      <td>2</td>\\      <td>2</td>\\      <td>2</td>\\      <td>0</td>\\      <td>0</td>\\      <td>61380.0</td>\\      <td>61380.0</td>\\      <td>62158.0</td>\\      <td>120142.0</td>\\      <td>1</td>\\    </tr>\\    <tr>\\      <th>14284</th>\\      <td>14285</td>\\      <td>10000</td>\\      <td>1</td>\\      <td>2</td>\\      <td>1</td>\\      <td>47</td>\\      <td>0</td>\\      <td>0</td>\\      <td>0</td>\\      <td>0</td>\\      <td>0</td>\\      <td>-1</td>\\      <td>8689.0</td>\\      <td>8689.0</td>\\      <td>9449.0</td>\\      <td>6376.0</td>\\      <td>0</td>\\    </tr>\\    <tr>\\      <th>2789</th>\\      <td>2790</td>\\      <td>50000</td>\\      <td>1</td>\\      <td>1</td>\\      <td>3</td>\\      <td>25</td>\\      <td>1</td>\\      <td>-1</td>\\      <td>2</td>\\      <td>-1</td>\\      <td>0</td>\\      <td>-1</td>\\      <td>3395.0</td>\\      <td>3395.0</td>\\      <td>3180.0</td>\\      <td>1831.0</td>\\      <td>1</td>\\    </tr>\\    <tr>\\      <th>2489</th>\\      <td>2490</td>\\      <td>10000</td>\\      <td>1</td>\\      <td>2</td>\\      <td>2</td>\\      <td>23</td>\\      <td>0</td>\\      <td>0</td>\\      <td>0</td>\\      <td>0</td>\\      <td>2</td>\\      <td>2</td>\\      <td>6722.0</td>\\      <td>6722.0</td>\\      <td>8305.0</td>\\      <td>9405.0</td>\\      <td>0</td>\\    </tr>\\    <tr>\\      <th>25774</th>\\      <td>25775</td>\\      <td>70000</td>\\      <td>2</td>\\      <td>2</td>\\      <td>1</td>\\      <td>44</td>\\      <td>0</td>\\      <td>0</td>\\      <td>0</td>\\      <td>0</td>\\      <td>0</td>\\      <td>0</td>\\      <td>75146.0</td>\\      <td>75146.0</td>\\      <td>76717.0</td>\\      <td>70281.0</td>\\      <td>0</td>\\    </tr>\\    <tr>\\      <th>3497</th>\\      <td>3498</td>\\      <td>240000</td>\\      <td>1</td>\\      <td>2</td>\\      <td>1</td>\\      <td>37</td>\\      <td>-1</td>\\      <td>-1</td>\\      <td>-1</td>\\      <td>0</td>\\      <td>0</td>\\      <td>0</td>\\      <td>5652.0</td>\\      <td>5652.0</td>\\      <td>34351.0</td>\\      <td>22241.0</td>\\      <td>0</td>\\    </tr>\\    <tr>\\      <th>29948</th>\\      <td>29949</td>\\      <td>290000</td>\\      <td>1</td>\\      <td>1</td>\\      <td>1</td>\\      <td>32</td>\\      <td>-1</td>\\      <td>-1</td>\\      <td>-1</td>\\      <td>-1</td>\\      <td>0</td>\\      <td>0</td>\\      <td>38752.0</td>\\      <td>38752.0</td>\\      <td>200.0</td>\\      <td>1956.0</td>\\      <td>0</td>\\    </tr>\\    <tr>\\      <th>4045</th>\\      <td>4046</td>\\      <td>50000</td>\\      <td>1</td>\\      <td>2</td>\\      <td>2</td>\\      <td>23</td>\\      <td>0</td>\\      <td>0</td>\\      <td>0</td>\\      <td>0</td>\\      <td>0</td>\\      <td>0</td>\\      <td>27693.0</td>\\      <td>27693.0</td>\\      <td>20401.0</td>\\      <td>17510.0</td>\\      <td>0</td>\\    </tr>\\    <tr>\\      <th>27442</th>\\      <td>27443</td>\\      <td>300000</td>\\      <td>1</td>\\      <td>1</td>\\      <td>1</td>\\      <td>45</td>\\      <td>1</td>\\      <td>-2</td>\\      <td>-2</td>\\      <td>-2</td>\\      <td>-2</td>\\      <td>-2</td>\\      <td>0.0</td>\\      <td>0.0</td>\\      <td>0.0</td>\\      <td>0.0</td>\\      <td>0</td>\\    </tr>\\    <tr>\\      <th>15385</th>\\      <td>15386</td>\\      <td>90000</td>\\      <td>2</td>\\      <td>2</td>\\      <td>1</td>\\      <td>34</td>\\      <td>-1</td>\\      <td>2</td>\\      <td>-1</td>\\      <td>-1</td>\\      <td>-2</td>\\      <td>-2</td>\\      <td>168.0</td>\\      <td>168.0</td>\\      <td>432.0</td>\\      <td>0.0</td>\\      <td>1</td>\\    </tr>\\    <tr>\\      <th>19378</th>\\      <td>19379</td>\\      <td>120000</td>\\      <td>2</td>\\      <td>2</td>\\      <td>1</td>\\      <td>36</td>\\      <td>0</td>\\      <td>0</td>\\      <td>-2</td>\\      <td>-2</td>\\      <td>-1</td>\\      <td>-1</td>\\      <td>380.0</td>\\      <td>380.0</td>\\      <td>0.0</td>\\      <td>970.0</td>\\      <td>0</td>\\    </tr>\\    <tr>\\      <th>3868</th>\\      <td>3869</td>\\      <td>80000</td>\\      <td>2</td>\\      <td>2</td>\\      <td>1</td>\\      <td>43</td>\\      <td>-2</td>\\      <td>-2</td>\\      <td>-2</td>\\      <td>-2</td>\\      <td>-2</td>\\      <td>-2</td>\\      <td>379.0</td>\\      <td>379.0</td>\\      <td>298.0</td>\\      <td>-300.0</td>\\      <td>1</td>\\    </tr>\\    <tr>\\      <th>19166</th>\\      <td>19167</td>\\      <td>110000</td>\\      <td>2</td>\\      <td>2</td>\\      <td>1</td>\\      <td>35</td>\\      <td>0</td>\\      <td>0</td>\\      <td>0</td>\\      <td>0</td>\\      <td>0</td>\\      <td>0</td>\\      <td>7040.0</td>\\      <td>7040.0</td>\\      <td>3861.0</td>\\      <td>4869.0</td>\\      <td>1</td>\\    </tr>\\    <tr>\\      <th>5975</th>\\      <td>5976</td>\\      <td>50000</td>\\      <td>2</td>\\      <td>2</td>\\      <td>2</td>\\      <td>24</td>\\      <td>0</td>\\      <td>-1</td>\\      <td>-1</td>\\      <td>0</td>\\      <td>0</td>\\      <td>-2</td>\\      <td>9631.0</td>\\      <td>9631.0</td>\\      <td>36631.0</td>\\      <td>29150.0</td>\\      <td>0</td>\\    </tr>\\    <tr>\\      <th>7896</th>\\      <td>7897</td>\\      <td>160000</td>\\      <td>1</td>\\      <td>1</td>\\      <td>2</td>\\      <td>41</td>\\      <td>-1</td>\\      <td>-1</td>\\      <td>-1</td>\\      <td>-1</td>\\      <td>-1</td>\\      <td>-1</td>\\      <td>396.0</td>\\      <td>396.0</td>\\      <td>396.0</td>\\      <td>0.0</td>\\      <td>1</td>\\    </tr>\\    <tr>\\      <th>3119</th>\\      <td>3120</td>\\      <td>260000</td>\\      <td>1</td>\\      <td>1</td>\\      <td>2</td>\\      <td>28</td>\\      <td>-1</td>\\      <td>-1</td>\\      <td>-1</td>\\      <td>-1</td>\\      <td>-1</td>\\      <td>-1</td>\\      <td>11515.0</td>\\      <td>11515.0</td>\\      <td>13392.0</td>\\      <td>22209.0</td>\\      <td>0</td>\\    </tr>\\    <tr>\\      <th>19531</th>\\      <td>19532</td>\\      <td>320000</td>\\      <td>2</td>\\      <td>1</td>\\      <td>1</td>\\      <td>46</td>\\      <td>-1</td>\\      <td>-1</td>\\      <td>-1</td>\\      <td>-1</td>\\      <td>-1</td>\\      <td>-1</td>\\      <td>534.0</td>\\      <td>534.0</td>\\      <td>2709.0</td>\\      <td>0.0</td>\\      <td>0</td>\\    </tr>\\    <tr>\\      <th>10284</th>\\      <td>10285</td>\\      <td>220000</td>\\      <td>2</td>\\      <td>1</td>\\      <td>1</td>\\      <td>41</td>\\      <td>0</td>\\      <td>0</td>\\      <td>0</td>\\      <td>0</td>\\      <td>0</td>\\      <td>0</td>\\      <td>114930.0</td>\\      <td>114930.0</td>\\      <td>100749.0</td>\\      <td>74457.0</td>\\      <td>0</td>\\    </tr>\\    <tr>\\      <th>26162</th>\\      <td>26163</td>\\      <td>310000</td>\\      <td>2</td>\\      <td>3</td>\\      <td>2</td>\\      <td>38</td>\\      <td>-2</td>\\      <td>-2</td>\\      <td>-2</td>\\      <td>-1</td>\\      <td>0</td>\\      <td>0</td>\\      <td>8198.0</td>\\      <td>8198.0</td>\\      <td>342.0</td>\\      <td>41726.0</td>\\      <td>0</td>\\    </tr>\\    <tr>\\      <th>2459</th>\\      <td>2460</td>\\      <td>250000</td>\\      <td>2</td>\\      <td>2</td>\\      <td>1</td>\\      <td>41</td>\\      <td>-1</td>\\      <td>-1</td>\\      <td>-1</td>\\      <td>-1</td>\\      <td>-2</td>\\      <td>-2</td>\\      <td>51803.0</td>\\      <td>51803.0</td>\\      <td>4997.0</td>\\      <td>0.0</td>\\      <td>0</td>\\    </tr>\\    <tr>\\      <th>13589</th>\\      <td>13590</td>\\      <td>80000</td>\\      <td>1</td>\\      <td>2</td>\\      <td>2</td>\\      <td>28</td>\\      <td>-1</td>\\      <td>-1</td>\\      <td>0</td>\\      <td>0</td>\\      <td>0</td>\\      <td>0</td>\\      <td>86115.0</td>\\      <td>86115.0</td>\\      <td>77955.0</td>\\      <td>49955.0</td>\\      <td>0</td>\\    </tr>\\    <tr>\\      <th>8830</th>\\      <td>8831</td>\\      <td>50000</td>\\      <td>1</td>\\      <td>2</td>\\      <td>1</td>\\      <td>33</td>\\      <td>2</td>\\      <td>0</td>\\      <td>-1</td>\\      <td>-1</td>\\      <td>-1</td>\\      <td>0</td>\\      <td>42803.0</td>\\      <td>42803.0</td>\\      <td>1473.0</td>\\      <td>390.0</td>\\      <td>0</td>\\    </tr>\\    <tr>\\      <th>7083</th>\\      <td>7084</td>\\      <td>410000</td>\\      <td>2</td>\\      <td>2</td>\\      <td>1</td>\\      <td>29</td>\\      <td>-2</td>\\      <td>-2</td>\\      <td>-2</td>\\      <td>-1</td>\\      <td>-1</td>\\      <td>0</td>\\      <td>6500.0</td>\\      <td>6500.0</td>\\      <td>6764.0</td>\\      <td>1743.0</td>\\      <td>0</td>\\    </tr>\\    <tr>\\      <th>22502</th>\\      <td>22503</td>\\      <td>50000</td>\\      <td>2</td>\\      <td>2</td>\\      <td>2</td>\\      <td>44</td>\\      <td>0</td>\\      <td>0</td>\\      <td>2</td>\\      <td>3</td>\\      <td>2</td>\\      <td>0</td>\\      <td>18961.0</td>\\      <td>18961.0</td>\\      <td>20857.0</td>\\      <td>20229.0</td>\\      <td>1</td>\\    </tr>\\    <tr>\\      <th>28879</th>\\      <td>28880</td>\\      <td>230000</td>\\      <td>2</td>\\      <td>2</td>\\      <td>2</td>\\      <td>43</td>\\      <td>2</td>\\      <td>2</td>\\      <td>2</td>\\      <td>2</td>\\      <td>2</td>\\      <td>3</td>\\      <td>215936.0</td>\\      <td>215936.0</td>\\      <td>221001.0</td>\\      <td>220886.0</td>\\      <td>1</td>\\    </tr>\\    <tr>\\      <th>29847</th>\\      <td>29848</td>\\      <td>310000</td>\\      <td>1</td>\\      <td>4</td>\\      <td>1</td>\\      <td>46</td>\\      <td>-1</td>\\      <td>-1</td>\\      <td>-1</td>\\      <td>-1</td>\\      <td>-1</td>\\      <td>-1</td>\\      <td>10414.0</td>\\      <td>10414.0</td>\\      <td>21209.0</td>\\      <td>91238.0</td>\\      <td>0</td>\\    </tr>\\    <tr>\\      <th>20954</th>\\      <td>20955</td>\\      <td>50000</td>\\      <td>1</td>\\      <td>2</td>\\      <td>2</td>\\      <td>36</td>\\      <td>-1</td>\\      <td>-1</td>\\      <td>-1</td>\\      <td>-1</td>\\      <td>-1</td>\\      <td>-1</td>\\      <td>1261.0</td>\\      <td>1261.0</td>\\      <td>1665.0</td>\\      <td>1261.0</td>\\      <td>0</td>\\    </tr>\\    <tr>\\      <th>3832</th>\\      <td>3833</td>\\      <td>120000</td>\\      <td>2</td>\\      <td>3</td>\\      <td>1</td>\\      <td>48</td>\\      <td>-1</td>\\      <td>2</td>\\      <td>-1</td>\\      <td>-1</td>\\      <td>0</td>\\      <td>-1</td>\\      <td>199.0</td>\\      <td>199.0</td>\\      <td>1823.0</td>\\      <td>3646.0</td>\\      <td>1</td>\\    </tr>\\    <tr>\\      <th>4037</th>\\      <td>4038</td>\\      <td>150000</td>\\      <td>2</td>\\      <td>3</td>\\      <td>1</td>\\      <td>49</td>\\      <td>-1</td>\\      <td>-1</td>\\      <td>-1</td>\\      <td>-1</td>\\      <td>0</td>\\      <td>-1</td>\\      <td>23946.0</td>\\      <td>23946.0</td>\\      <td>7838.0</td>\\      <td>7642.0</td>\\      <td>0</td>\\    </tr>\\    <tr>\\      <th>9577</th>\\      <td>9578</td>\\      <td>40000</td>\\      <td>2</td>\\      <td>1</td>\\      <td>1</td>\\      <td>27</td>\\      <td>0</td>\\      <td>0</td>\\      <td>0</td>\\      <td>0</td>\\      <td>0</td>\\      <td>0</td>\\      <td>39045.0</td>\\      <td>39045.0</td>\\      <td>39825.0</td>\\      <td>38847.0</td>\\      <td>0</td>\\    </tr>\\    <tr>\\      <th>17204</th>\\      <td>17205</td>\\      <td>70000</td>\\      <td>1</td>\\      <td>2</td>\\      <td>2</td>\\      <td>29</td>\\      <td>-2</td>\\      <td>-2</td>\\      <td>-2</td>\\      <td>-2</td>\\      <td>-2</td>\\      <td>-2</td>\\      <td>-17810.0</td>\\      <td>-17810.0</td>\\      <td>-595.0</td>\\      <td>7462.0</td>\\      <td>0</td>\\    </tr>\\    <tr>\\      <th>12499</th>\\      <td>12500</td>\\      <td>190000</td>\\      <td>2</td>\\      <td>1</td>\\      <td>2</td>\\      <td>29</td>\\      <td>0</td>\\      <td>0</td>\\      <td>0</td>\\      <td>0</td>\\      <td>0</td>\\      <td>0</td>\\      <td>179419.0</td>\\      <td>179419.0</td>\\      <td>165858.0</td>\\      <td>159374.0</td>\\      <td>0</td>\\    </tr>\\    <tr>\\      <th>20459</th>\\      <td>20460</td>\\      <td>20000</td>\\      <td>1</td>\\      <td>2</td>\\      <td>2</td>\\      <td>25</td>\\      <td>-1</td>\\      <td>-1</td>\\      <td>-1</td>\\      <td>-1</td>\\      <td>-1</td>\\      <td>-2</td>\\      <td>390.0</td>\\      <td>390.0</td>\\      <td>1128.0</td>\\      <td>19780.0</td>\\      <td>0</td>\\    </tr>\\    <tr>\\      <th>21780</th>\\      <td>21781</td>\\      <td>50000</td>\\      <td>2</td>\\      <td>2</td>\\      <td>2</td>\\      <td>25</td>\\      <td>0</td>\\      <td>0</td>\\      <td>0</td>\\      <td>0</td>\\      <td>-2</td>\\      <td>-2</td>\\      <td>19340.0</td>\\      <td>19340.0</td>\\      <td>10000.0</td>\\      <td>0.0</td>\\      <td>0</td>\\    </tr>\\    <tr>\\      <th>8730</th>\\      <td>8731</td>\\      <td>30000</td>\\      <td>2</td>\\      <td>1</td>\\      <td>1</td>\\      <td>22</td>\\      <td>0</td>\\      <td>0</td>\\      <td>0</td>\\      <td>0</td>\\      <td>0</td>\\      <td>2</td>\\      <td>22650.0</td>\\      <td>22650.0</td>\\      <td>22513.0</td>\\      <td>22391.0</td>\\      <td>0</td>\\    </tr>\\    <tr>\\      <th>22522</th>\\      <td>22523</td>\\      <td>20000</td>\\      <td>2</td>\\      <td>2</td>\\      <td>1</td>\\      <td>34</td>\\      <td>2</td>\\      <td>2</td>\\      <td>2</td>\\      <td>2</td>\\      <td>2</td>\\      <td>2</td>\\      <td>16513.0</td>\\      <td>16513.0</td>\\      <td>17549.0</td>\\      <td>18907.0</td>\\      <td>0</td>\\    </tr>\\    <tr>\\      <th>18347</th>\\      <td>18348</td>\\      <td>50000</td>\\      <td>2</td>\\      <td>2</td>\\      <td>2</td>\\      <td>22</td>\\      <td>1</td>\\      <td>2</td>\\      <td>0</td>\\      <td>0</td>\\      <td>0</td>\\      <td>0</td>\\      <td>50497.0</td>\\      <td>50497.0</td>\\      <td>30935.0</td>\\      <td>14010.0</td>\\      <td>0</td>\\    </tr>\\    <tr>\\      <th>15576</th>\\      <td>15577</td>\\      <td>350000</td>\\      <td>1</td>\\      <td>1</td>\\      <td>1</td>\\      <td>49</td>\\      <td>-2</td>\\      <td>-2</td>\\      <td>-2</td>\\      <td>-2</td>\\      <td>-2</td>\\      <td>-2</td>\\      <td>4213.0</td>\\      <td>4213.0</td>\\      <td>1518.0</td>\\      <td>4625.0</td>\\      <td>0</td>\\    </tr>\\    <tr>\\      <th>14258</th>\\      <td>14259</td>\\      <td>50000</td>\\      <td>1</td>\\      <td>1</td>\\      <td>2</td>\\      <td>27</td>\\      <td>2</td>\\      <td>2</td>\\      <td>2</td>\\      <td>2</td>\\      <td>2</td>\\      <td>2</td>\\      <td>6045.0</td>\\      <td>6045.0</td>\\      <td>7487.0</td>\\      <td>7218.0</td>\\      <td>1</td>\\    </tr>\\    <tr>\\      <th>23429</th>\\      <td>23430</td>\\      <td>500000</td>\\      <td>2</td>\\      <td>1</td>\\      <td>2</td>\\      <td>28</td>\\      <td>-2</td>\\      <td>-2</td>\\      <td>-2</td>\\      <td>-2</td>\\      <td>-2</td>\\      <td>-1</td>\\      <td>-31.0</td>\\      <td>-31.0</td>\\      <td>-31.0</td>\\      <td>3963.0</td>\\      <td>0</td>\\    </tr>\\    <tr>\\      <th>2978</th>\\      <td>2979</td>\\      <td>120000</td>\\      <td>2</td>\\      <td>1</td>\\      <td>2</td>\\      <td>31</td>\\      <td>-1</td>\\      <td>-1</td>\\      <td>-1</td>\\      <td>-1</td>\\      <td>-1</td>\\      <td>-1</td>\\      <td>325.0</td>\\      <td>325.0</td>\\      <td>325.0</td>\\      <td>325.0</td>\\      <td>0</td>\\    </tr>\\    <tr>\\      <th>19596</th>\\      <td>19597</td>\\      <td>100000</td>\\      <td>2</td>\\      <td>2</td>\\      <td>1</td>\\      <td>32</td>\\      <td>0</td>\\      <td>0</td>\\      <td>0</td>\\      <td>2</td>\\      <td>0</td>\\      <td>0</td>\\      <td>23380.0</td>\\      <td>23380.0</td>\\      <td>33045.0</td>\\      <td>32346.0</td>\\      <td>0</td>\\    </tr>\\    <tr>\\      <th>1213</th>\\      <td>1214</td>\\      <td>80000</td>\\      <td>2</td>\\      <td>3</td>\\      <td>1</td>\\      <td>26</td>\\      <td>0</td>\\      <td>0</td>\\      <td>0</td>\\      <td>0</td>\\      <td>0</td>\\      <td>0</td>\\      <td>64162.0</td>\\      <td>64162.0</td>\\      <td>38141.0</td>\\      <td>38190.0</td>\\      <td>0</td>\\    </tr>\\    <tr>\\      <th>14993</th>\\      <td>14994</td>\\      <td>360000</td>\\      <td>1</td>\\      <td>2</td>\\      <td>1</td>\\      <td>37</td>\\      <td>-2</td>\\      <td>-2</td>\\      <td>-2</td>\\      <td>-2</td>\\      <td>-2</td>\\      <td>-1</td>\\      <td>134296.0</td>\\      <td>134296.0</td>\\      <td>128307.0</td>\\      <td>61650.0</td>\\      <td>0</td>\\    </tr>\\    <tr>\\      <th>8064</th>\\      <td>8065</td>\\      <td>20000</td>\\      <td>2</td>\\      <td>2</td>\\      <td>1</td>\\      <td>51</td>\\      <td>-1</td>\\      <td>-1</td>\\      <td>-2</td>\\      <td>-2</td>\\      <td>-2</td>\\      <td>-2</td>\\      <td>0.0</td>\\      <td>0.0</td>\\      <td>0.0</td>\\      <td>0.0</td>\\      <td>0</td>\\    </tr>\\    <tr>\\      <th>28716</th>\\      <td>28717</td>\\      <td>340000</td>\\      <td>2</td>\\      <td>1</td>\\      <td>3</td>\\      <td>42</td>\\      <td>-1</td>\\      <td>-1</td>\\      <td>-1</td>\\      <td>-1</td>\\      <td>-1</td>\\      <td>0</td>\\      <td>176743.0</td>\\      <td>176743.0</td>\\      <td>34402.0</td>\\      <td>205931.0</td>\\      <td>0</td>\\    </tr>\\    <tr>\\      <th>2146</th>\\      <td>2147</td>\\      <td>150000</td>\\      <td>2</td>\\      <td>3</td>\\      <td>0</td>\\      <td>55</td>\\      <td>-1</td>\\      <td>-1</td>\\      <td>-1</td>\\      <td>-1</td>\\      <td>-1</td>\\      <td>-1</td>\\      <td>17493.0</td>\\      <td>17493.0</td>\\      <td>9160.0</td>\\      <td>2939.0</td>\\      <td>0</td>\\    </tr>\\    <tr>\\      <th>24379</th>\\      <td>24380</td>\\      <td>330000</td>\\      <td>1</td>\\      <td>1</td>\\      <td>1</td>\\      <td>49</td>\\      <td>-2</td>\\      <td>-2</td>\\      <td>-2</td>\\      <td>-2</td>\\      <td>-2</td>\\      <td>-2</td>\\      <td>65.0</td>\\      <td>65.0</td>\\      <td>3775.0</td>\\      <td>1590.0</td>\\      <td>0</td>\\    </tr>\\    <tr>\\      <th>12726</th>\\      <td>12727</td>\\      <td>200000</td>\\      <td>2</td>\\      <td>1</td>\\      <td>2</td>\\      <td>28</td>\\      <td>-1</td>\\      <td>-1</td>\\      <td>-1</td>\\      <td>0</td>\\      <td>-1</td>\\      <td>0</td>\\      <td>5322.0</td>\\      <td>5322.0</td>\\      <td>7756.0</td>\\      <td>4792.0</td>\\      <td>0</td>\\    </tr>\\    <tr>\\      <th>9652</th>\\      <td>9653</td>\\      <td>300000</td>\\      <td>2</td>\\      <td>2</td>\\      <td>1</td>\\      <td>26</td>\\      <td>-1</td>\\      <td>-1</td>\\      <td>-1</td>\\      <td>-1</td>\\      <td>-1</td>\\      <td>-1</td>\\      <td>316.0</td>\\      <td>316.0</td>\\      <td>316.0</td>\\      <td>316.0</td>\\      <td>0</td>\\    </tr>\\    <tr>\\      <th>2952</th>\\      <td>2953</td>\\      <td>30000</td>\\      <td>2</td>\\      <td>2</td>\\      <td>1</td>\\      <td>26</td>\\      <td>1</td>\\      <td>2</td>\\      <td>0</td>\\      <td>0</td>\\      <td>0</td>\\      <td>0</td>\\      <td>29580.0</td>\\      <td>29580.0</td>\\      <td>30121.0</td>\\      <td>12787.0</td>\\      <td>0</td>\\    </tr>\\    <tr>\\      <th>22264</th>\\      <td>22265</td>\\      <td>260000</td>\\      <td>2</td>\\      <td>2</td>\\      <td>1</td>\\      <td>31</td>\\      <td>0</td>\\      <td>0</td>\\      <td>0</td>\\      <td>0</td>\\      <td>0</td>\\      <td>0</td>\\      <td>83083.0</td>\\      <td>83083.0</td>\\      <td>85346.0</td>\\      <td>87620.0</td>\\      <td>0</td>\\    </tr>\\    <tr>\\      <th>18952</th>\\      <td>18953</td>\\      <td>70000</td>\\      <td>2</td>\\      <td>1</td>\\      <td>2</td>\\      <td>26</td>\\      <td>0</td>\\      <td>0</td>\\      <td>0</td>\\      <td>0</td>\\      <td>0</td>\\      <td>0</td>\\      <td>65577.0</td>\\      <td>65577.0</td>\\      <td>53264.0</td>\\      <td>51464.0</td>\\      <td>0</td>\\    </tr>\\    <tr>\\      <th>4711</th>\\      <td>4712</td>\\      <td>130000</td>\\      <td>2</td>\\      <td>3</td>\\      <td>1</td>\\      <td>42</td>\\      <td>0</td>\\      <td>0</td>\\      <td>0</td>\\      <td>0</td>\\      <td>0</td>\\      <td>0</td>\\      <td>127839.0</td>\\      <td>127839.0</td>\\      <td>128380.0</td>\\      <td>97713.0</td>\\      <td>0</td>\\    </tr>\\    <tr>\\      <th>25662</th>\\      <td>25663</td>\\      <td>100000</td>\\      <td>2</td>\\      <td>2</td>\\      <td>1</td>\\      <td>34</td>\\      <td>0</td>\\      <td>0</td>\\      <td>0</td>\\      <td>0</td>\\      <td>0</td>\\      <td>0</td>\\      <td>10108.0</td>\\      <td>10108.0</td>\\      <td>8022.0</td>\\      <td>9733.0</td>\\      <td>0</td>\\    </tr>\\    <tr>\\      <th>2052</th>\\      <td>2053</td>\\      <td>140000</td>\\      <td>2</td>\\      <td>2</td>\\      <td>2</td>\\      <td>42</td>\\      <td>-1</td>\\      <td>-1</td>\\      <td>-1</td>\\      <td>0</td>\\      <td>-1</td>\\      <td>-1</td>\\      <td>395.0</td>\\      <td>395.0</td>\\      <td>1204.0</td>\\      <td>700.0</td>\\      <td>0</td>\\    </tr>\\    <tr>\\      <th>9873</th>\\      <td>9874</td>\\      <td>110000</td>\\      <td>1</td>\\      <td>2</td>\\      <td>1</td>\\      <td>48</td>\\      <td>0</td>\\      <td>0</td>\\      <td>0</td>\\      <td>0</td>\\      <td>0</td>\\      <td>0</td>\\      <td>108561.0</td>\\      <td>108561.0</td>\\      <td>108895.0</td>\\      <td>78194.0</td>\\      <td>0</td>\\    </tr>\\    <tr>\\      <th>9191</th>\\      <td>9192</td>\\      <td>350000</td>\\      <td>2</td>\\      <td>2</td>\\      <td>3</td>\\      <td>44</td>\\      <td>2</td>\\      <td>2</td>\\      <td>-2</td>\\      <td>-2</td>\\      <td>-2</td>\\      <td>-1</td>\\      <td>-4577.0</td>\\      <td>-4577.0</td>\\      <td>-4577.0</td>\\      <td>-2699.0</td>\\      <td>0</td>\\    </tr>\\    <tr>\\      <th>17736</th>\\      <td>17737</td>\\      <td>110000</td>\\      <td>2</td>\\      <td>3</td>\\      <td>1</td>\\      <td>52</td>\\      <td>1</td>\\      <td>2</td>\\      <td>0</td>\\      <td>0</td>\\      <td>0</td>\\      <td>2</td>\\      <td>11137.0</td>\\      <td>11137.0</td>\\      <td>16401.0</td>\\      <td>18670.0</td>\\      <td>0</td>\\    </tr>\\  </tbody>\\</table><style>\\    table { border-collapse: collapse; border: 3px solid #eee; }\\    table tr th:first-child { background-color: #eeeeee; color: #333; font-weight: bold }\\    table thead th { background-color: #eee; color: #000; }\\    tr, th, td { border: 1px solid #ccc; border-width: 1px 0 0 1px; border-collapse: collapse;\\    padding: 3px; font-family: monospace; font-size: 10px }</style>\\    ';</script><style>\n",
       "    table { border-collapse: collapse; border: 3px solid #eee; }\n",
       "    table tr th:first-child { background-color: #eeeeee; color: #333; font-weight: bold }\n",
       "    table thead th { background-color: #eee; color: #000; }\n",
       "    tr, th, td { border: 1px solid #ccc; border-width: 1px 0 0 1px; border-collapse: collapse;\n",
       "    padding: 3px; font-family: monospace; font-size: 10px }</style>\n",
       "    "
      ],
      "text/plain": [
       "<IPython.core.display.HTML object>"
      ]
     },
     "execution_count": 17,
     "metadata": {},
     "output_type": "execute_result"
    }
   ],
   "source": [
    "View(base_dataset.sample(100))"
   ]
  },
  {
   "cell_type": "code",
   "execution_count": 18,
   "metadata": {
    "scrolled": false
   },
   "outputs": [
    {
     "data": {
      "text/html": [
       "<div>\n",
       "<style scoped>\n",
       "    .dataframe tbody tr th:only-of-type {\n",
       "        vertical-align: middle;\n",
       "    }\n",
       "\n",
       "    .dataframe tbody tr th {\n",
       "        vertical-align: top;\n",
       "    }\n",
       "\n",
       "    .dataframe thead th {\n",
       "        text-align: right;\n",
       "    }\n",
       "</style>\n",
       "<table border=\"1\" class=\"dataframe\">\n",
       "  <thead>\n",
       "    <tr style=\"text-align: right;\">\n",
       "      <th></th>\n",
       "      <th>Patient Id</th>\n",
       "      <th>RBCount</th>\n",
       "      <th>SEX</th>\n",
       "      <th>EDUCATION</th>\n",
       "      <th>MARRIAGE</th>\n",
       "      <th>AGE</th>\n",
       "      <th>Eithinicity</th>\n",
       "      <th>Kidney Disfunction</th>\n",
       "      <th>Symptoms</th>\n",
       "      <th>CCIS</th>\n",
       "      <th>Disturbance of Equalibirum</th>\n",
       "      <th>Blood Flow levels</th>\n",
       "      <th>BMI Index</th>\n",
       "      <th>Shotness of Breath</th>\n",
       "      <th>Uremia Levels</th>\n",
       "      <th>Urine Color</th>\n",
       "      <th>ESRD Disease</th>\n",
       "    </tr>\n",
       "  </thead>\n",
       "  <tbody>\n",
       "    <tr>\n",
       "      <th>0</th>\n",
       "      <td>1</td>\n",
       "      <td>20000</td>\n",
       "      <td>2</td>\n",
       "      <td>2</td>\n",
       "      <td>1</td>\n",
       "      <td>24</td>\n",
       "      <td>2</td>\n",
       "      <td>2</td>\n",
       "      <td>-1</td>\n",
       "      <td>-1</td>\n",
       "      <td>-2</td>\n",
       "      <td>-2</td>\n",
       "      <td>0.069164</td>\n",
       "      <td>0.069164</td>\n",
       "      <td>0.086723</td>\n",
       "      <td>0.160138</td>\n",
       "      <td>1</td>\n",
       "    </tr>\n",
       "    <tr>\n",
       "      <th>1</th>\n",
       "      <td>2</td>\n",
       "      <td>120000</td>\n",
       "      <td>2</td>\n",
       "      <td>2</td>\n",
       "      <td>2</td>\n",
       "      <td>26</td>\n",
       "      <td>-1</td>\n",
       "      <td>2</td>\n",
       "      <td>0</td>\n",
       "      <td>0</td>\n",
       "      <td>0</td>\n",
       "      <td>2</td>\n",
       "      <td>0.067858</td>\n",
       "      <td>0.067858</td>\n",
       "      <td>0.087817</td>\n",
       "      <td>0.163220</td>\n",
       "      <td>1</td>\n",
       "    </tr>\n",
       "    <tr>\n",
       "      <th>2</th>\n",
       "      <td>3</td>\n",
       "      <td>90000</td>\n",
       "      <td>2</td>\n",
       "      <td>2</td>\n",
       "      <td>2</td>\n",
       "      <td>34</td>\n",
       "      <td>0</td>\n",
       "      <td>0</td>\n",
       "      <td>0</td>\n",
       "      <td>0</td>\n",
       "      <td>0</td>\n",
       "      <td>0</td>\n",
       "      <td>0.079532</td>\n",
       "      <td>0.079532</td>\n",
       "      <td>0.093789</td>\n",
       "      <td>0.173637</td>\n",
       "      <td>0</td>\n",
       "    </tr>\n",
       "    <tr>\n",
       "      <th>3</th>\n",
       "      <td>4</td>\n",
       "      <td>50000</td>\n",
       "      <td>2</td>\n",
       "      <td>2</td>\n",
       "      <td>1</td>\n",
       "      <td>37</td>\n",
       "      <td>0</td>\n",
       "      <td>0</td>\n",
       "      <td>0</td>\n",
       "      <td>0</td>\n",
       "      <td>0</td>\n",
       "      <td>0</td>\n",
       "      <td>0.111995</td>\n",
       "      <td>0.111995</td>\n",
       "      <td>0.113407</td>\n",
       "      <td>0.186809</td>\n",
       "      <td>0</td>\n",
       "    </tr>\n",
       "    <tr>\n",
       "      <th>4</th>\n",
       "      <td>5</td>\n",
       "      <td>50000</td>\n",
       "      <td>1</td>\n",
       "      <td>2</td>\n",
       "      <td>1</td>\n",
       "      <td>57</td>\n",
       "      <td>-1</td>\n",
       "      <td>0</td>\n",
       "      <td>-1</td>\n",
       "      <td>0</td>\n",
       "      <td>0</td>\n",
       "      <td>0</td>\n",
       "      <td>0.071601</td>\n",
       "      <td>0.071601</td>\n",
       "      <td>0.106020</td>\n",
       "      <td>0.179863</td>\n",
       "      <td>0</td>\n",
       "    </tr>\n",
       "    <tr>\n",
       "      <th>5</th>\n",
       "      <td>6</td>\n",
       "      <td>50000</td>\n",
       "      <td>1</td>\n",
       "      <td>1</td>\n",
       "      <td>2</td>\n",
       "      <td>37</td>\n",
       "      <td>0</td>\n",
       "      <td>0</td>\n",
       "      <td>0</td>\n",
       "      <td>0</td>\n",
       "      <td>0</td>\n",
       "      <td>0</td>\n",
       "      <td>0.120381</td>\n",
       "      <td>0.120381</td>\n",
       "      <td>0.117974</td>\n",
       "      <td>0.178407</td>\n",
       "      <td>0</td>\n",
       "    </tr>\n",
       "    <tr>\n",
       "      <th>6</th>\n",
       "      <td>7</td>\n",
       "      <td>500000</td>\n",
       "      <td>1</td>\n",
       "      <td>1</td>\n",
       "      <td>2</td>\n",
       "      <td>29</td>\n",
       "      <td>0</td>\n",
       "      <td>0</td>\n",
       "      <td>0</td>\n",
       "      <td>0</td>\n",
       "      <td>0</td>\n",
       "      <td>0</td>\n",
       "      <td>0.457242</td>\n",
       "      <td>0.457242</td>\n",
       "      <td>0.330672</td>\n",
       "      <td>0.671310</td>\n",
       "      <td>0</td>\n",
       "    </tr>\n",
       "    <tr>\n",
       "      <th>7</th>\n",
       "      <td>8</td>\n",
       "      <td>100000</td>\n",
       "      <td>2</td>\n",
       "      <td>2</td>\n",
       "      <td>2</td>\n",
       "      <td>23</td>\n",
       "      <td>0</td>\n",
       "      <td>-1</td>\n",
       "      <td>-1</td>\n",
       "      <td>0</td>\n",
       "      <td>0</td>\n",
       "      <td>-1</td>\n",
       "      <td>0.066581</td>\n",
       "      <td>0.066581</td>\n",
       "      <td>0.086675</td>\n",
       "      <td>0.160346</td>\n",
       "      <td>0</td>\n",
       "    </tr>\n",
       "    <tr>\n",
       "      <th>8</th>\n",
       "      <td>9</td>\n",
       "      <td>140000</td>\n",
       "      <td>2</td>\n",
       "      <td>3</td>\n",
       "      <td>1</td>\n",
       "      <td>28</td>\n",
       "      <td>0</td>\n",
       "      <td>0</td>\n",
       "      <td>2</td>\n",
       "      <td>0</td>\n",
       "      <td>0</td>\n",
       "      <td>0</td>\n",
       "      <td>0.079598</td>\n",
       "      <td>0.079598</td>\n",
       "      <td>0.092992</td>\n",
       "      <td>0.171640</td>\n",
       "      <td>0</td>\n",
       "    </tr>\n",
       "    <tr>\n",
       "      <th>9</th>\n",
       "      <td>10</td>\n",
       "      <td>20000</td>\n",
       "      <td>1</td>\n",
       "      <td>3</td>\n",
       "      <td>2</td>\n",
       "      <td>35</td>\n",
       "      <td>-2</td>\n",
       "      <td>-2</td>\n",
       "      <td>-2</td>\n",
       "      <td>-2</td>\n",
       "      <td>-1</td>\n",
       "      <td>-1</td>\n",
       "      <td>0.066220</td>\n",
       "      <td>0.066220</td>\n",
       "      <td>0.086345</td>\n",
       "      <td>0.160138</td>\n",
       "      <td>0</td>\n",
       "    </tr>\n",
       "  </tbody>\n",
       "</table>\n",
       "</div>"
      ],
      "text/plain": [
       "   Patient Id  RBCount  SEX  EDUCATION  MARRIAGE  AGE  Eithinicity  \\\n",
       "0           1    20000    2          2         1   24            2   \n",
       "1           2   120000    2          2         2   26           -1   \n",
       "2           3    90000    2          2         2   34            0   \n",
       "3           4    50000    2          2         1   37            0   \n",
       "4           5    50000    1          2         1   57           -1   \n",
       "5           6    50000    1          1         2   37            0   \n",
       "6           7   500000    1          1         2   29            0   \n",
       "7           8   100000    2          2         2   23            0   \n",
       "8           9   140000    2          3         1   28            0   \n",
       "9          10    20000    1          3         2   35           -2   \n",
       "\n",
       "   Kidney Disfunction  Symptoms  CCIS  Disturbance of Equalibirum   \\\n",
       "0                   2        -1    -1                           -2   \n",
       "1                   2         0     0                            0   \n",
       "2                   0         0     0                            0   \n",
       "3                   0         0     0                            0   \n",
       "4                   0        -1     0                            0   \n",
       "5                   0         0     0                            0   \n",
       "6                   0         0     0                            0   \n",
       "7                  -1        -1     0                            0   \n",
       "8                   0         2     0                            0   \n",
       "9                  -2        -2    -2                           -1   \n",
       "\n",
       "   Blood Flow levels  BMI Index  Shotness of Breath  Uremia Levels  \\\n",
       "0                 -2   0.069164            0.069164       0.086723   \n",
       "1                  2   0.067858            0.067858       0.087817   \n",
       "2                  0   0.079532            0.079532       0.093789   \n",
       "3                  0   0.111995            0.111995       0.113407   \n",
       "4                  0   0.071601            0.071601       0.106020   \n",
       "5                  0   0.120381            0.120381       0.117974   \n",
       "6                  0   0.457242            0.457242       0.330672   \n",
       "7                 -1   0.066581            0.066581       0.086675   \n",
       "8                  0   0.079598            0.079598       0.092992   \n",
       "9                 -1   0.066220            0.066220       0.086345   \n",
       "\n",
       "   Urine Color   ESRD Disease  \n",
       "0      0.160138             1  \n",
       "1      0.163220             1  \n",
       "2      0.173637             0  \n",
       "3      0.186809             0  \n",
       "4      0.179863             0  \n",
       "5      0.178407             0  \n",
       "6      0.671310             0  \n",
       "7      0.160346             0  \n",
       "8      0.171640             0  \n",
       "9      0.160138             0  "
      ]
     },
     "execution_count": 18,
     "metadata": {},
     "output_type": "execute_result"
    }
   ],
   "source": [
    "base_dataset.head(10)"
   ]
  },
  {
   "cell_type": "code",
   "execution_count": 19,
   "metadata": {},
   "outputs": [],
   "source": [
    "# for i in range (0,10):\n",
    "#     temp=[]\n",
    "#     for j in vv.columns:\n",
    "#         temp.append(float(vv[j][i]))\n",
    "#     temp=tuple(temp)\n",
    "#     sql = \"INSERT INTO head VALUES (%s,%s, %s,%s, %s,%s, %s,%s, %s,%s, %s,%s, %s,%s, %s,%s, %s,%s, %s,%s, %s,%s, %s,%s, %s,%s, %s,%s, %s,%s,%s,%s)\"\n",
    "#     mycursor.execute(sql, temp)\n",
    "#     mydb.commit()\n",
    "#     print(mycursor.rowcount, \"record inserted.\")"
   ]
  },
  {
   "cell_type": "code",
   "execution_count": 20,
   "metadata": {},
   "outputs": [
    {
     "data": {
      "text/plain": [
       "Index(['Patient Id', 'RBCount', 'SEX', 'EDUCATION', 'MARRIAGE', 'AGE',\n",
       "       'Eithinicity', 'Kidney Disfunction', 'Symptoms', 'CCIS',\n",
       "       'Disturbance of Equalibirum ', 'Blood Flow levels', 'BMI Index',\n",
       "       'Shotness of Breath', 'Uremia Levels', 'Urine Color ', 'ESRD Disease'],\n",
       "      dtype='object')"
      ]
     },
     "execution_count": 20,
     "metadata": {},
     "output_type": "execute_result"
    }
   ],
   "source": [
    "base_dataset.columns"
   ]
  },
  {
   "cell_type": "code",
   "execution_count": 21,
   "metadata": {},
   "outputs": [],
   "source": [
    "# check the target distribution\n",
    "\n",
    "plt.rcParams['figure.figsize'] = (8, 6)\n",
    "\n",
    "sns.countplot(x='ESRD Disease', data=base_dataset);\n",
    "plt.savefig(\"count plot.png\")\n",
    "plt.show()"
   ]
  },
  {
   "cell_type": "code",
   "execution_count": 22,
   "metadata": {
    "scrolled": true
   },
   "outputs": [
    {
     "data": {
      "text/plain": [
       "SEX  ESRD Disease\n",
       "1    0                9015\n",
       "     1                2873\n",
       "2    0               14349\n",
       "     1                3763\n",
       "Name: ESRD Disease, dtype: int64"
      ]
     },
     "execution_count": 22,
     "metadata": {},
     "output_type": "execute_result"
    }
   ],
   "source": [
    "base_dataset.groupby(by=['SEX', 'ESRD Disease'])['ESRD Disease'].count()"
   ]
  },
  {
   "cell_type": "code",
   "execution_count": 23,
   "metadata": {},
   "outputs": [
    {
     "data": {
      "text/html": [
       "<div>\n",
       "<style scoped>\n",
       "    .dataframe tbody tr th:only-of-type {\n",
       "        vertical-align: middle;\n",
       "    }\n",
       "\n",
       "    .dataframe tbody tr th {\n",
       "        vertical-align: top;\n",
       "    }\n",
       "\n",
       "    .dataframe thead th {\n",
       "        text-align: right;\n",
       "    }\n",
       "</style>\n",
       "<table border=\"1\" class=\"dataframe\">\n",
       "  <thead>\n",
       "    <tr style=\"text-align: right;\">\n",
       "      <th>ESRD Disease</th>\n",
       "      <th>0</th>\n",
       "      <th>1</th>\n",
       "    </tr>\n",
       "    <tr>\n",
       "      <th>SEX</th>\n",
       "      <th></th>\n",
       "      <th></th>\n",
       "    </tr>\n",
       "  </thead>\n",
       "  <tbody>\n",
       "    <tr>\n",
       "      <th>1</th>\n",
       "      <td>9015</td>\n",
       "      <td>2873</td>\n",
       "    </tr>\n",
       "    <tr>\n",
       "      <th>2</th>\n",
       "      <td>14349</td>\n",
       "      <td>3763</td>\n",
       "    </tr>\n",
       "  </tbody>\n",
       "</table>\n",
       "</div>"
      ],
      "text/plain": [
       "ESRD Disease      0     1\n",
       "SEX                      \n",
       "1              9015  2873\n",
       "2             14349  3763"
      ]
     },
     "execution_count": 23,
     "metadata": {},
     "output_type": "execute_result"
    }
   ],
   "source": [
    "pd.crosstab(base_dataset['SEX'], base_dataset['ESRD Disease'])"
   ]
  },
  {
   "cell_type": "code",
   "execution_count": 24,
   "metadata": {},
   "outputs": [],
   "source": [
    "# sns.catplot(x='SEX', col='ESRD Disease', kind='count', data=base_dataset);"
   ]
  },
  {
   "cell_type": "code",
   "execution_count": 25,
   "metadata": {},
   "outputs": [],
   "source": [
    "def nullvalue_function(base_dataset,percentage):\n",
    "    \n",
    "    # Checking the null value occurance\n",
    "    \n",
    "    print(base_dataset.isna().sum())\n",
    "\n",
    "    # Printing the shape of the data \n",
    "    \n",
    "    print(base_dataset.shape)\n",
    "    \n",
    "    # Converting  into percentage table\n",
    "    \n",
    "    null_value_table=pd.DataFrame((base_dataset.isna().sum()/base_dataset.shape[0])*100).sort_values(0,ascending=False )\n",
    "    \n",
    "    null_value_table.columns=['null percentage']\n",
    "    \n",
    "    # Defining the threashold values \n",
    "    \n",
    "    null_value_table[null_value_table['null percentage']>percentage].index\n",
    "    \n",
    "    # Drop the columns that has null values more than threashold \n",
    "    base_dataset.drop(null_value_table[null_value_table['null percentage']>30].index,axis=1,inplace=True)\n",
    "    \n",
    "    # Replace the null values with median() # continous variables \n",
    "    for i in base_dataset.describe().columns:\n",
    "        base_dataset[i].fillna(base_dataset[i].median(),inplace=True)\n",
    "    # Replace the null values with mode() #categorical variables\n",
    "   # for i in base_dataset.describe(include='object').columns:\n",
    "     #   base_dataset[i].fillna(base_dataset[i].value_counts().index[0],inplace=True)\n",
    "  \n",
    "    print(base_dataset.shape)\n",
    "    \n",
    "    return base_dataset"
   ]
  },
  {
   "cell_type": "code",
   "execution_count": 26,
   "metadata": {},
   "outputs": [
    {
     "name": "stdout",
     "output_type": "stream",
     "text": [
      "Patient Id                     0\n",
      "RBCount                        0\n",
      "SEX                            0\n",
      "EDUCATION                      0\n",
      "MARRIAGE                       0\n",
      "AGE                            0\n",
      "Eithinicity                    0\n",
      "Kidney Disfunction             0\n",
      "Symptoms                       0\n",
      "CCIS                           0\n",
      "Disturbance of Equalibirum     0\n",
      "Blood Flow levels              0\n",
      "BMI Index                      0\n",
      "Shotness of Breath             0\n",
      "Uremia Levels                  0\n",
      "Urine Color                    0\n",
      "ESRD Disease                   0\n",
      "dtype: int64\n",
      "(30000, 17)\n",
      "(30000, 17)\n"
     ]
    }
   ],
   "source": [
    "base_dataset=nullvalue_function(base_dataset,30)"
   ]
  },
  {
   "cell_type": "code",
   "execution_count": 27,
   "metadata": {},
   "outputs": [
    {
     "data": {
      "text/plain": [
       "<function matplotlib.pyplot.show(*args, **kw)>"
      ]
     },
     "execution_count": 27,
     "metadata": {},
     "output_type": "execute_result"
    }
   ],
   "source": [
    "sns.distplot(a=base_dataset['AGE'], color='red');\n",
    "plt.show"
   ]
  },
  {
   "cell_type": "code",
   "execution_count": 28,
   "metadata": {},
   "outputs": [],
   "source": [
    "from sklearn import preprocessing\n",
    "\n",
    "def variables_creation(base_dataset,unique):\n",
    "    \n",
    "    cat=base_dataset.describe(include='object').columns\n",
    "    \n",
    "    cont=base_dataset.describe().columns\n",
    "    \n",
    "    x=[]\n",
    "    \n",
    "    for i in base_dataset[cat].columns:\n",
    "        if len(base_dataset[i].value_counts().index)<unique:\n",
    "            x.append(i)\n",
    "    \n",
    "    dummies_table=pd.get_dummies(base_dataset[x])\n",
    "    encode_table=base_dataset[x]\n",
    "    \n",
    "    le = preprocessing.LabelEncoder()\n",
    "    lable_encode=[]\n",
    "    \n",
    "    for i in encode_table.columns:\n",
    "        le.fit(encode_table[i])\n",
    "        le.classes_\n",
    "        lable_encode.append(le.transform(encode_table[i]))\n",
    "        \n",
    "    lable_encode=np.array(lable_encode)\n",
    "    lable=lable_encode.reshape(base_dataset.shape[0],len(x))\n",
    "    lable=pd.DataFrame(lable)\n",
    "    return (lable,dummies_table,cat,cont)"
   ]
  },
  {
   "cell_type": "code",
   "execution_count": 29,
   "metadata": {},
   "outputs": [],
   "source": [
    "def bivariate_anaysis(base_null_value_treated):\n",
    "    correlation=[]\n",
    "    for i in base_null_value_treated.corr().columns:\n",
    "        for j in base_null_value_treated.corr().columns:\n",
    "            if i!=j:\n",
    "                corr=base_null_value_treated[[i,j]].corr().values[0][1]\n",
    "                d= {\n",
    "                    'Column name1':i,\n",
    "                    'Column name2':j,\n",
    "                    'corr':corr\n",
    "                   }\n",
    "                correlation.append(d)\n",
    "\n",
    "    correlation_table=pd.DataFrame(correlation)\n",
    "    variables_bivariate=correlation_table[(correlation_table['corr']>0.5) | (correlation_table['corr']<-0.5)]['Column name1'].values\n",
    "    return variables_bivariate"
   ]
  },
  {
   "cell_type": "code",
   "execution_count": 30,
   "metadata": {},
   "outputs": [
    {
     "data": {
      "text/plain": [
       "Index(['Patient Id', 'RBCount', 'SEX', 'EDUCATION', 'MARRIAGE', 'AGE',\n",
       "       'Eithinicity', 'Kidney Disfunction', 'Symptoms', 'CCIS',\n",
       "       'Disturbance of Equalibirum ', 'Blood Flow levels', 'BMI Index',\n",
       "       'Shotness of Breath', 'Uremia Levels', 'Urine Color ', 'ESRD Disease'],\n",
       "      dtype='object')"
      ]
     },
     "execution_count": 30,
     "metadata": {},
     "output_type": "execute_result"
    }
   ],
   "source": [
    "base_dataset.columns"
   ]
  },
  {
   "cell_type": "code",
   "execution_count": 31,
   "metadata": {},
   "outputs": [],
   "source": [
    "corr = base_dataset[['RBCount', 'SEX', 'AGE', 'Kidney Disfunction', 'ESRD Disease']].corr()\n",
    "\n",
    "cmap = sns.diverging_palette(220, 10, as_cmap=True)\n",
    "sns.heatmap(corr, annot=True, linewidths=1.7, linecolor='white');"
   ]
  },
  {
   "cell_type": "code",
   "execution_count": 32,
   "metadata": {},
   "outputs": [],
   "source": [
    "def bivariate_analysis():\n",
    "    for i in bivariate_variables:\n",
    "        for j in bivariate_variables:\n",
    "            if i!=j:\n",
    "                sns.jointplot(base_null_value_treated[i],base_null_value_treated[j])"
   ]
  },
  {
   "cell_type": "code",
   "execution_count": 33,
   "metadata": {},
   "outputs": [],
   "source": [
    "def univariate_analysis(base_null_value_treated):\n",
    "    import matplotlib.pyplot as plt\n",
    "    col=[]\n",
    "    for i in base_null_value_treated.describe().columns:\n",
    "        var=base_null_value_treated[i].value_counts().values.var()\n",
    "        col.append([i,var])\n",
    "        variance_table=pd.DataFrame(col)\n",
    "        variance_table[variance_table[1]>100][0].values\n",
    "    return variance_table[variance_table[1]>100][0].values\n",
    "\n",
    "        "
   ]
  },
  {
   "cell_type": "code",
   "execution_count": 34,
   "metadata": {},
   "outputs": [],
   "source": [
    "def outliers(df):\n",
    "    import numpy as np\n",
    "    import statistics as sts\n",
    "\n",
    "    for i in df.describe().columns:\n",
    "        x=np.array(df[i])\n",
    "        p=[]\n",
    "        Q1 = df[i].quantile(0.25)\n",
    "        Q3 = df[i].quantile(0.75)\n",
    "        IQR = Q3 - Q1\n",
    "        LTV= Q1 - (1.5 * IQR)\n",
    "        UTV= Q3 + (1.5 * IQR)\n",
    "        for j in x:\n",
    "            if j <= LTV or j>=UTV:\n",
    "                p.append(sts.median(x))\n",
    "            else:\n",
    "                p.append(j)\n",
    "        df[i]=p\n",
    "    return df\n",
    "\n",
    "#outliers_treated=outliers(base_null_value_treated)"
   ]
  },
  {
   "cell_type": "markdown",
   "metadata": {},
   "source": [
    "## Baseline Models Creation "
   ]
  },
  {
   "cell_type": "code",
   "execution_count": 35,
   "metadata": {},
   "outputs": [
    {
     "data": {
      "text/plain": [
       "Index(['Patient Id', 'RBCount', 'SEX', 'EDUCATION', 'MARRIAGE', 'AGE',\n",
       "       'Eithinicity', 'Kidney Disfunction', 'Symptoms', 'CCIS',\n",
       "       'Disturbance of Equalibirum ', 'Blood Flow levels', 'BMI Index',\n",
       "       'Shotness of Breath', 'Uremia Levels', 'Urine Color ', 'ESRD Disease'],\n",
       "      dtype='object')"
      ]
     },
     "execution_count": 35,
     "metadata": {},
     "output_type": "execute_result"
    }
   ],
   "source": [
    "base_dataset.columns"
   ]
  },
  {
   "cell_type": "code",
   "execution_count": 36,
   "metadata": {},
   "outputs": [],
   "source": [
    "base_dataset=base_dataset[base_dataset.describe().columns]"
   ]
  },
  {
   "cell_type": "code",
   "execution_count": 37,
   "metadata": {
    "scrolled": true
   },
   "outputs": [
    {
     "data": {
      "text/html": [
       "<div>\n",
       "<style scoped>\n",
       "    .dataframe tbody tr th:only-of-type {\n",
       "        vertical-align: middle;\n",
       "    }\n",
       "\n",
       "    .dataframe tbody tr th {\n",
       "        vertical-align: top;\n",
       "    }\n",
       "\n",
       "    .dataframe thead th {\n",
       "        text-align: right;\n",
       "    }\n",
       "</style>\n",
       "<table border=\"1\" class=\"dataframe\">\n",
       "  <thead>\n",
       "    <tr style=\"text-align: right;\">\n",
       "      <th></th>\n",
       "      <th>Patient Id</th>\n",
       "      <th>RBCount</th>\n",
       "      <th>SEX</th>\n",
       "      <th>EDUCATION</th>\n",
       "      <th>MARRIAGE</th>\n",
       "      <th>AGE</th>\n",
       "      <th>Eithinicity</th>\n",
       "      <th>Kidney Disfunction</th>\n",
       "      <th>Symptoms</th>\n",
       "      <th>CCIS</th>\n",
       "      <th>Disturbance of Equalibirum</th>\n",
       "      <th>Blood Flow levels</th>\n",
       "      <th>BMI Index</th>\n",
       "      <th>Shotness of Breath</th>\n",
       "      <th>Uremia Levels</th>\n",
       "      <th>Urine Color</th>\n",
       "      <th>ESRD Disease</th>\n",
       "    </tr>\n",
       "  </thead>\n",
       "  <tbody>\n",
       "    <tr>\n",
       "      <th>0</th>\n",
       "      <td>1</td>\n",
       "      <td>20000</td>\n",
       "      <td>2</td>\n",
       "      <td>2</td>\n",
       "      <td>1</td>\n",
       "      <td>24</td>\n",
       "      <td>2</td>\n",
       "      <td>2</td>\n",
       "      <td>-1</td>\n",
       "      <td>-1</td>\n",
       "      <td>-2</td>\n",
       "      <td>-2</td>\n",
       "      <td>0.069164</td>\n",
       "      <td>0.069164</td>\n",
       "      <td>0.086723</td>\n",
       "      <td>0.160138</td>\n",
       "      <td>1</td>\n",
       "    </tr>\n",
       "    <tr>\n",
       "      <th>1</th>\n",
       "      <td>2</td>\n",
       "      <td>120000</td>\n",
       "      <td>2</td>\n",
       "      <td>2</td>\n",
       "      <td>2</td>\n",
       "      <td>26</td>\n",
       "      <td>-1</td>\n",
       "      <td>2</td>\n",
       "      <td>0</td>\n",
       "      <td>0</td>\n",
       "      <td>0</td>\n",
       "      <td>2</td>\n",
       "      <td>0.067858</td>\n",
       "      <td>0.067858</td>\n",
       "      <td>0.087817</td>\n",
       "      <td>0.163220</td>\n",
       "      <td>1</td>\n",
       "    </tr>\n",
       "    <tr>\n",
       "      <th>2</th>\n",
       "      <td>3</td>\n",
       "      <td>90000</td>\n",
       "      <td>2</td>\n",
       "      <td>2</td>\n",
       "      <td>2</td>\n",
       "      <td>34</td>\n",
       "      <td>0</td>\n",
       "      <td>0</td>\n",
       "      <td>0</td>\n",
       "      <td>0</td>\n",
       "      <td>0</td>\n",
       "      <td>0</td>\n",
       "      <td>0.079532</td>\n",
       "      <td>0.079532</td>\n",
       "      <td>0.093789</td>\n",
       "      <td>0.173637</td>\n",
       "      <td>0</td>\n",
       "    </tr>\n",
       "    <tr>\n",
       "      <th>3</th>\n",
       "      <td>4</td>\n",
       "      <td>50000</td>\n",
       "      <td>2</td>\n",
       "      <td>2</td>\n",
       "      <td>1</td>\n",
       "      <td>37</td>\n",
       "      <td>0</td>\n",
       "      <td>0</td>\n",
       "      <td>0</td>\n",
       "      <td>0</td>\n",
       "      <td>0</td>\n",
       "      <td>0</td>\n",
       "      <td>0.111995</td>\n",
       "      <td>0.111995</td>\n",
       "      <td>0.113407</td>\n",
       "      <td>0.186809</td>\n",
       "      <td>0</td>\n",
       "    </tr>\n",
       "    <tr>\n",
       "      <th>4</th>\n",
       "      <td>5</td>\n",
       "      <td>50000</td>\n",
       "      <td>1</td>\n",
       "      <td>2</td>\n",
       "      <td>1</td>\n",
       "      <td>57</td>\n",
       "      <td>-1</td>\n",
       "      <td>0</td>\n",
       "      <td>-1</td>\n",
       "      <td>0</td>\n",
       "      <td>0</td>\n",
       "      <td>0</td>\n",
       "      <td>0.071601</td>\n",
       "      <td>0.071601</td>\n",
       "      <td>0.106020</td>\n",
       "      <td>0.179863</td>\n",
       "      <td>0</td>\n",
       "    </tr>\n",
       "  </tbody>\n",
       "</table>\n",
       "</div>"
      ],
      "text/plain": [
       "   Patient Id  RBCount  SEX  EDUCATION  MARRIAGE  AGE  Eithinicity  \\\n",
       "0           1    20000    2          2         1   24            2   \n",
       "1           2   120000    2          2         2   26           -1   \n",
       "2           3    90000    2          2         2   34            0   \n",
       "3           4    50000    2          2         1   37            0   \n",
       "4           5    50000    1          2         1   57           -1   \n",
       "\n",
       "   Kidney Disfunction  Symptoms  CCIS  Disturbance of Equalibirum   \\\n",
       "0                   2        -1    -1                           -2   \n",
       "1                   2         0     0                            0   \n",
       "2                   0         0     0                            0   \n",
       "3                   0         0     0                            0   \n",
       "4                   0        -1     0                            0   \n",
       "\n",
       "   Blood Flow levels  BMI Index  Shotness of Breath  Uremia Levels  \\\n",
       "0                 -2   0.069164            0.069164       0.086723   \n",
       "1                  2   0.067858            0.067858       0.087817   \n",
       "2                  0   0.079532            0.079532       0.093789   \n",
       "3                  0   0.111995            0.111995       0.113407   \n",
       "4                  0   0.071601            0.071601       0.106020   \n",
       "\n",
       "   Urine Color   ESRD Disease  \n",
       "0      0.160138             1  \n",
       "1      0.163220             1  \n",
       "2      0.173637             0  \n",
       "3      0.186809             0  \n",
       "4      0.179863             0  "
      ]
     },
     "execution_count": 37,
     "metadata": {},
     "output_type": "execute_result"
    }
   ],
   "source": [
    "base_dataset.head()"
   ]
  },
  {
   "cell_type": "code",
   "execution_count": 38,
   "metadata": {
    "scrolled": true
   },
   "outputs": [
    {
     "data": {
      "text/html": [
       "<div>\n",
       "<style scoped>\n",
       "    .dataframe tbody tr th:only-of-type {\n",
       "        vertical-align: middle;\n",
       "    }\n",
       "\n",
       "    .dataframe tbody tr th {\n",
       "        vertical-align: top;\n",
       "    }\n",
       "\n",
       "    .dataframe thead th {\n",
       "        text-align: right;\n",
       "    }\n",
       "</style>\n",
       "<table border=\"1\" class=\"dataframe\">\n",
       "  <thead>\n",
       "    <tr style=\"text-align: right;\">\n",
       "      <th></th>\n",
       "      <th>count</th>\n",
       "      <th>mean</th>\n",
       "      <th>std</th>\n",
       "      <th>min</th>\n",
       "      <th>25%</th>\n",
       "      <th>50%</th>\n",
       "      <th>75%</th>\n",
       "      <th>max</th>\n",
       "    </tr>\n",
       "  </thead>\n",
       "  <tbody>\n",
       "    <tr>\n",
       "      <th>Patient Id</th>\n",
       "      <td>30000.0</td>\n",
       "      <td>15000.500000</td>\n",
       "      <td>8660.398374</td>\n",
       "      <td>1.0</td>\n",
       "      <td>7500.75</td>\n",
       "      <td>15000.5</td>\n",
       "      <td>22500.25</td>\n",
       "      <td>30000.0</td>\n",
       "    </tr>\n",
       "    <tr>\n",
       "      <th>RBCount</th>\n",
       "      <td>30000.0</td>\n",
       "      <td>167484.322667</td>\n",
       "      <td>129747.661567</td>\n",
       "      <td>10000.0</td>\n",
       "      <td>50000.00</td>\n",
       "      <td>140000.0</td>\n",
       "      <td>240000.00</td>\n",
       "      <td>1000000.0</td>\n",
       "    </tr>\n",
       "    <tr>\n",
       "      <th>SEX</th>\n",
       "      <td>30000.0</td>\n",
       "      <td>1.603733</td>\n",
       "      <td>0.489129</td>\n",
       "      <td>1.0</td>\n",
       "      <td>1.00</td>\n",
       "      <td>2.0</td>\n",
       "      <td>2.00</td>\n",
       "      <td>2.0</td>\n",
       "    </tr>\n",
       "    <tr>\n",
       "      <th>EDUCATION</th>\n",
       "      <td>30000.0</td>\n",
       "      <td>1.853133</td>\n",
       "      <td>0.790349</td>\n",
       "      <td>0.0</td>\n",
       "      <td>1.00</td>\n",
       "      <td>2.0</td>\n",
       "      <td>2.00</td>\n",
       "      <td>6.0</td>\n",
       "    </tr>\n",
       "    <tr>\n",
       "      <th>MARRIAGE</th>\n",
       "      <td>30000.0</td>\n",
       "      <td>1.551867</td>\n",
       "      <td>0.521970</td>\n",
       "      <td>0.0</td>\n",
       "      <td>1.00</td>\n",
       "      <td>2.0</td>\n",
       "      <td>2.00</td>\n",
       "      <td>3.0</td>\n",
       "    </tr>\n",
       "    <tr>\n",
       "      <th>AGE</th>\n",
       "      <td>30000.0</td>\n",
       "      <td>35.485500</td>\n",
       "      <td>9.217904</td>\n",
       "      <td>21.0</td>\n",
       "      <td>28.00</td>\n",
       "      <td>34.0</td>\n",
       "      <td>41.00</td>\n",
       "      <td>79.0</td>\n",
       "    </tr>\n",
       "    <tr>\n",
       "      <th>Eithinicity</th>\n",
       "      <td>30000.0</td>\n",
       "      <td>-0.016700</td>\n",
       "      <td>1.123802</td>\n",
       "      <td>-2.0</td>\n",
       "      <td>-1.00</td>\n",
       "      <td>0.0</td>\n",
       "      <td>0.00</td>\n",
       "      <td>8.0</td>\n",
       "    </tr>\n",
       "    <tr>\n",
       "      <th>Kidney Disfunction</th>\n",
       "      <td>30000.0</td>\n",
       "      <td>-0.133767</td>\n",
       "      <td>1.197186</td>\n",
       "      <td>-2.0</td>\n",
       "      <td>-1.00</td>\n",
       "      <td>0.0</td>\n",
       "      <td>0.00</td>\n",
       "      <td>8.0</td>\n",
       "    </tr>\n",
       "    <tr>\n",
       "      <th>Symptoms</th>\n",
       "      <td>30000.0</td>\n",
       "      <td>-0.166200</td>\n",
       "      <td>1.196868</td>\n",
       "      <td>-2.0</td>\n",
       "      <td>-1.00</td>\n",
       "      <td>0.0</td>\n",
       "      <td>0.00</td>\n",
       "      <td>8.0</td>\n",
       "    </tr>\n",
       "    <tr>\n",
       "      <th>CCIS</th>\n",
       "      <td>30000.0</td>\n",
       "      <td>-0.220667</td>\n",
       "      <td>1.169139</td>\n",
       "      <td>-2.0</td>\n",
       "      <td>-1.00</td>\n",
       "      <td>0.0</td>\n",
       "      <td>0.00</td>\n",
       "      <td>8.0</td>\n",
       "    </tr>\n",
       "    <tr>\n",
       "      <th>Disturbance of Equalibirum</th>\n",
       "      <td>30000.0</td>\n",
       "      <td>-0.266200</td>\n",
       "      <td>1.133187</td>\n",
       "      <td>-2.0</td>\n",
       "      <td>-1.00</td>\n",
       "      <td>0.0</td>\n",
       "      <td>0.00</td>\n",
       "      <td>8.0</td>\n",
       "    </tr>\n",
       "    <tr>\n",
       "      <th>Blood Flow levels</th>\n",
       "      <td>30000.0</td>\n",
       "      <td>-0.291100</td>\n",
       "      <td>1.149988</td>\n",
       "      <td>-2.0</td>\n",
       "      <td>-1.00</td>\n",
       "      <td>0.0</td>\n",
       "      <td>0.00</td>\n",
       "      <td>8.0</td>\n",
       "    </tr>\n",
       "    <tr>\n",
       "      <th>BMI Index</th>\n",
       "      <td>30000.0</td>\n",
       "      <td>48803.894853</td>\n",
       "      <td>70987.619598</td>\n",
       "      <td>-69777.0</td>\n",
       "      <td>2749.75</td>\n",
       "      <td>20739.5</td>\n",
       "      <td>63343.25</td>\n",
       "      <td>983931.0</td>\n",
       "    </tr>\n",
       "    <tr>\n",
       "      <th>Shotness of Breath</th>\n",
       "      <td>30000.0</td>\n",
       "      <td>48803.894853</td>\n",
       "      <td>70987.619598</td>\n",
       "      <td>-69777.0</td>\n",
       "      <td>2749.75</td>\n",
       "      <td>20739.5</td>\n",
       "      <td>63343.25</td>\n",
       "      <td>983931.0</td>\n",
       "    </tr>\n",
       "    <tr>\n",
       "      <th>Uremia Levels</th>\n",
       "      <td>30000.0</td>\n",
       "      <td>46661.338407</td>\n",
       "      <td>69160.620872</td>\n",
       "      <td>-157264.0</td>\n",
       "      <td>2482.75</td>\n",
       "      <td>19871.0</td>\n",
       "      <td>59724.00</td>\n",
       "      <td>1664089.0</td>\n",
       "    </tr>\n",
       "    <tr>\n",
       "      <th>Urine Color</th>\n",
       "      <td>30000.0</td>\n",
       "      <td>42922.723622</td>\n",
       "      <td>63999.660769</td>\n",
       "      <td>-170000.0</td>\n",
       "      <td>2130.00</td>\n",
       "      <td>18864.0</td>\n",
       "      <td>53852.50</td>\n",
       "      <td>891586.0</td>\n",
       "    </tr>\n",
       "    <tr>\n",
       "      <th>ESRD Disease</th>\n",
       "      <td>30000.0</td>\n",
       "      <td>0.221200</td>\n",
       "      <td>0.415062</td>\n",
       "      <td>0.0</td>\n",
       "      <td>0.00</td>\n",
       "      <td>0.0</td>\n",
       "      <td>0.00</td>\n",
       "      <td>1.0</td>\n",
       "    </tr>\n",
       "  </tbody>\n",
       "</table>\n",
       "</div>"
      ],
      "text/plain": [
       "                               count           mean            std       min  \\\n",
       "Patient Id                   30000.0   15000.500000    8660.398374       1.0   \n",
       "RBCount                      30000.0  167484.322667  129747.661567   10000.0   \n",
       "SEX                          30000.0       1.603733       0.489129       1.0   \n",
       "EDUCATION                    30000.0       1.853133       0.790349       0.0   \n",
       "MARRIAGE                     30000.0       1.551867       0.521970       0.0   \n",
       "AGE                          30000.0      35.485500       9.217904      21.0   \n",
       "Eithinicity                  30000.0      -0.016700       1.123802      -2.0   \n",
       "Kidney Disfunction           30000.0      -0.133767       1.197186      -2.0   \n",
       "Symptoms                     30000.0      -0.166200       1.196868      -2.0   \n",
       "CCIS                         30000.0      -0.220667       1.169139      -2.0   \n",
       "Disturbance of Equalibirum   30000.0      -0.266200       1.133187      -2.0   \n",
       "Blood Flow levels            30000.0      -0.291100       1.149988      -2.0   \n",
       "BMI Index                    30000.0   48803.894853   70987.619598  -69777.0   \n",
       "Shotness of Breath           30000.0   48803.894853   70987.619598  -69777.0   \n",
       "Uremia Levels                30000.0   46661.338407   69160.620872 -157264.0   \n",
       "Urine Color                  30000.0   42922.723622   63999.660769 -170000.0   \n",
       "ESRD Disease                 30000.0       0.221200       0.415062       0.0   \n",
       "\n",
       "                                  25%       50%        75%        max  \n",
       "Patient Id                    7500.75   15000.5   22500.25    30000.0  \n",
       "RBCount                      50000.00  140000.0  240000.00  1000000.0  \n",
       "SEX                              1.00       2.0       2.00        2.0  \n",
       "EDUCATION                        1.00       2.0       2.00        6.0  \n",
       "MARRIAGE                         1.00       2.0       2.00        3.0  \n",
       "AGE                             28.00      34.0      41.00       79.0  \n",
       "Eithinicity                     -1.00       0.0       0.00        8.0  \n",
       "Kidney Disfunction              -1.00       0.0       0.00        8.0  \n",
       "Symptoms                        -1.00       0.0       0.00        8.0  \n",
       "CCIS                            -1.00       0.0       0.00        8.0  \n",
       "Disturbance of Equalibirum      -1.00       0.0       0.00        8.0  \n",
       "Blood Flow levels               -1.00       0.0       0.00        8.0  \n",
       "BMI Index                     2749.75   20739.5   63343.25   983931.0  \n",
       "Shotness of Breath            2749.75   20739.5   63343.25   983931.0  \n",
       "Uremia Levels                 2482.75   19871.0   59724.00  1664089.0  \n",
       "Urine Color                   2130.00   18864.0   53852.50   891586.0  \n",
       "ESRD Disease                     0.00       0.0       0.00        1.0  "
      ]
     },
     "execution_count": 38,
     "metadata": {},
     "output_type": "execute_result"
    }
   ],
   "source": [
    "base_dataset.describe().T"
   ]
  },
  {
   "cell_type": "code",
   "execution_count": 39,
   "metadata": {},
   "outputs": [],
   "source": [
    "# plotCorrelationMatrix(base_dataset, 8)"
   ]
  },
  {
   "cell_type": "markdown",
   "metadata": {},
   "source": [
    "## Logistic Regression"
   ]
  },
  {
   "cell_type": "code",
   "execution_count": 40,
   "metadata": {},
   "outputs": [],
   "source": [
    "base_dataset=base_dataset[base_dataset.describe().columns]\n",
    "y=base_dataset['ESRD Disease']\n",
    "X=base_dataset.drop(['ESRD Disease',\"Patient Id\"],axis=1)"
   ]
  },
  {
   "cell_type": "code",
   "execution_count": 41,
   "metadata": {},
   "outputs": [
    {
     "name": "stderr",
     "output_type": "stream",
     "text": [
      "C:\\Users\\Subh\\Anaconda3\\lib\\site-packages\\sklearn\\ensemble\\weight_boosting.py:29: DeprecationWarning:\n",
      "\n",
      "numpy.core.umath_tests is an internal NumPy module and should not be imported. It will be removed in a future NumPy release.\n",
      "\n"
     ]
    }
   ],
   "source": [
    "from sklearn.tree import DecisionTreeClassifier\n",
    "from sklearn.ensemble import BaggingClassifier\n",
    "from sklearn.model_selection import cross_val_score\n",
    "from sklearn.model_selection import train_test_split\n",
    "X_train, X_test, y_train, y_test = train_test_split(X, y, test_size=0.3)\n",
    "import numpy as np"
   ]
  },
  {
   "cell_type": "code",
   "execution_count": 42,
   "metadata": {},
   "outputs": [],
   "source": [
    "from sklearn.metrics import accuracy_score, classification_report, confusion_matrix\n",
    "def print_score(clf, X_train, y_train, X_test, y_test, train=True):\n",
    "    '''\n",
    "    print the accuracy score, classification report and confusion matrix of classifier\n",
    "    '''\n",
    "    if train:\n",
    "        '''\n",
    "        training performance\n",
    "        '''\n",
    "        print(\"Train Result:\\n\")\n",
    "        print(\"accuracy score: {0:.4f}\\n\".format(accuracy_score(y_train, clf.predict(X_train))))\n",
    "        print(\"Classification Report: \\n {}\\n\".format(classification_report(y_train, clf.predict(X_train))))\n",
    "        print(\"Confusion Matrix: \\n {}\\n\".format(confusion_matrix(y_train, clf.predict(X_train))))\n",
    "\n",
    "        res = cross_val_score(clf, X_train, y_train, cv=10, scoring='accuracy')\n",
    "        print(\"Average Accuracy: \\t {0:.4f}\".format(np.mean(res)))\n",
    "        print(\"Accuracy SD: \\t\\t {0:.4f}\".format(np.std(res)))\n",
    "        \n",
    "    elif train==False:\n",
    "        '''\n",
    "        test performance\n",
    "        '''\n",
    "        print(\"Test Result:\\n\")        \n",
    "        print(\"accuracy score: {0:.4f}\\n\".format(accuracy_score(y_test, clf.predict(X_test))))\n",
    "        print(\"Classification Report: \\n {}\\n\".format(classification_report(y_test, clf.predict(X_test))))\n",
    "        print(\"Confusion Matrix: \\n {}\\n\".format(confusion_matrix(y_test, clf.predict(X_test))))    \n",
    "        "
   ]
  },
  {
   "cell_type": "code",
   "execution_count": 43,
   "metadata": {},
   "outputs": [
    {
     "data": {
      "text/plain": [
       "array([0, 0, 0, ..., 0, 0, 0], dtype=int64)"
      ]
     },
     "execution_count": 43,
     "metadata": {},
     "output_type": "execute_result"
    }
   ],
   "source": [
    "from sklearn.linear_model import LogisticRegression\n",
    "lr=LogisticRegression()\n",
    "lr.fit(X_train,y_train)\n",
    "lr.predict(X_test)"
   ]
  },
  {
   "cell_type": "code",
   "execution_count": 44,
   "metadata": {},
   "outputs": [
    {
     "name": "stdout",
     "output_type": "stream",
     "text": [
      "Train Result:\n",
      "\n",
      "accuracy score: 0.7792\n",
      "\n",
      "Classification Report: \n",
      "              precision    recall  f1-score   support\n",
      "\n",
      "          0       0.78      1.00      0.88     16364\n",
      "          1       0.00      0.00      0.00      4636\n",
      "\n",
      "avg / total       0.61      0.78      0.68     21000\n",
      "\n",
      "\n",
      "Confusion Matrix: \n",
      " [[16364     0]\n",
      " [ 4636     0]]\n",
      "\n",
      "Average Accuracy: \t 0.7792\n",
      "Accuracy SD: \t\t 0.0002\n"
     ]
    }
   ],
   "source": [
    "print_score(lr, X_train, y_train, X_test, y_test, train=True)"
   ]
  },
  {
   "cell_type": "code",
   "execution_count": 45,
   "metadata": {},
   "outputs": [
    {
     "data": {
      "text/plain": [
       "(5, 15)"
      ]
     },
     "execution_count": 45,
     "metadata": {},
     "output_type": "execute_result"
    }
   ],
   "source": [
    "X_train.head().shape"
   ]
  },
  {
   "cell_type": "code",
   "execution_count": 46,
   "metadata": {
    "scrolled": true
   },
   "outputs": [
    {
     "name": "stdout",
     "output_type": "stream",
     "text": [
      "Test Result:\n",
      "\n",
      "accuracy score: 0.7778\n",
      "\n",
      "Classification Report: \n",
      "              precision    recall  f1-score   support\n",
      "\n",
      "          0       0.78      1.00      0.88      7000\n",
      "          1       0.00      0.00      0.00      2000\n",
      "\n",
      "avg / total       0.60      0.78      0.68      9000\n",
      "\n",
      "\n",
      "Confusion Matrix: \n",
      " [[7000    0]\n",
      " [2000    0]]\n",
      "\n"
     ]
    }
   ],
   "source": [
    "print_score(lr, X_train, y_train, X_test, y_test, train=False)"
   ]
  },
  {
   "cell_type": "code",
   "execution_count": 47,
   "metadata": {},
   "outputs": [
    {
     "data": {
      "text/plain": [
       "array([0, 0, 0, ..., 0, 0, 0], dtype=int64)"
      ]
     },
     "execution_count": 47,
     "metadata": {},
     "output_type": "execute_result"
    }
   ],
   "source": [
    "from sklearn.ensemble import RandomForestClassifier\n",
    "lr=RandomForestClassifier()\n",
    "lr.fit(X_train,y_train)\n",
    "lr.predict(X_test)"
   ]
  },
  {
   "cell_type": "code",
   "execution_count": 48,
   "metadata": {},
   "outputs": [
    {
     "name": "stdout",
     "output_type": "stream",
     "text": [
      "Train Result:\n",
      "\n",
      "accuracy score: 0.9779\n",
      "\n",
      "Classification Report: \n",
      "              precision    recall  f1-score   support\n",
      "\n",
      "          0       0.97      1.00      0.99     16364\n",
      "          1       0.99      0.91      0.95      4636\n",
      "\n",
      "avg / total       0.98      0.98      0.98     21000\n",
      "\n",
      "\n",
      "Confusion Matrix: \n",
      " [[16337    27]\n",
      " [  438  4198]]\n",
      "\n",
      "Average Accuracy: \t 0.8049\n",
      "Accuracy SD: \t\t 0.0045\n"
     ]
    }
   ],
   "source": [
    "print_score(lr, X_train, y_train, X_test, y_test, train=True)"
   ]
  },
  {
   "cell_type": "code",
   "execution_count": 49,
   "metadata": {
    "scrolled": true
   },
   "outputs": [
    {
     "name": "stdout",
     "output_type": "stream",
     "text": [
      "Test Result:\n",
      "\n",
      "accuracy score: 0.8023\n",
      "\n",
      "Classification Report: \n",
      "              precision    recall  f1-score   support\n",
      "\n",
      "          0       0.83      0.94      0.88      7000\n",
      "          1       0.60      0.33      0.43      2000\n",
      "\n",
      "avg / total       0.78      0.80      0.78      9000\n",
      "\n",
      "\n",
      "Confusion Matrix: \n",
      " [[6558  442]\n",
      " [1337  663]]\n",
      "\n"
     ]
    }
   ],
   "source": [
    "print_score(lr, X_train, y_train, X_test, y_test, train=False)"
   ]
  },
  {
   "cell_type": "code",
   "execution_count": 50,
   "metadata": {},
   "outputs": [
    {
     "data": {
      "text/plain": [
       "array([0, 0, 0, ..., 0, 0, 0], dtype=int64)"
      ]
     },
     "execution_count": 50,
     "metadata": {},
     "output_type": "execute_result"
    }
   ],
   "source": [
    "from sklearn.tree import DecisionTreeClassifier\n",
    "lr=DecisionTreeClassifier()\n",
    "lr.fit(X_train,y_train)\n",
    "lr.predict(X_test)"
   ]
  },
  {
   "cell_type": "code",
   "execution_count": 51,
   "metadata": {},
   "outputs": [
    {
     "name": "stdout",
     "output_type": "stream",
     "text": [
      "Train Result:\n",
      "\n",
      "accuracy score: 0.9994\n",
      "\n",
      "Classification Report: \n",
      "              precision    recall  f1-score   support\n",
      "\n",
      "          0       1.00      1.00      1.00     16364\n",
      "          1       1.00      1.00      1.00      4636\n",
      "\n",
      "avg / total       1.00      1.00      1.00     21000\n",
      "\n",
      "\n",
      "Confusion Matrix: \n",
      " [[16363     1]\n",
      " [   11  4625]]\n",
      "\n",
      "Average Accuracy: \t 0.7232\n",
      "Accuracy SD: \t\t 0.0081\n"
     ]
    }
   ],
   "source": [
    "print_score(lr, X_train, y_train, X_test, y_test, train=True)"
   ]
  },
  {
   "cell_type": "code",
   "execution_count": 52,
   "metadata": {
    "scrolled": true
   },
   "outputs": [
    {
     "name": "stdout",
     "output_type": "stream",
     "text": [
      "Test Result:\n",
      "\n",
      "accuracy score: 0.7284\n",
      "\n",
      "Classification Report: \n",
      "              precision    recall  f1-score   support\n",
      "\n",
      "          0       0.83      0.82      0.82      7000\n",
      "          1       0.40      0.42      0.41      2000\n",
      "\n",
      "avg / total       0.74      0.73      0.73      9000\n",
      "\n",
      "\n",
      "Confusion Matrix: \n",
      " [[5710 1290]\n",
      " [1154  846]]\n",
      "\n"
     ]
    }
   ],
   "source": [
    "print_score(lr, X_train, y_train, X_test, y_test, train=False)"
   ]
  },
  {
   "cell_type": "code",
   "execution_count": 53,
   "metadata": {},
   "outputs": [
    {
     "data": {
      "text/plain": [
       "array([0, 0, 0, ..., 0, 0, 0], dtype=int64)"
      ]
     },
     "execution_count": 53,
     "metadata": {},
     "output_type": "execute_result"
    }
   ],
   "source": [
    "from sklearn.naive_bayes import BernoulliNB\n",
    "lr=BernoulliNB()\n",
    "lr.fit(X_train,y_train)\n",
    "lr.predict(X_test)"
   ]
  },
  {
   "cell_type": "code",
   "execution_count": 54,
   "metadata": {},
   "outputs": [
    {
     "name": "stdout",
     "output_type": "stream",
     "text": [
      "Train Result:\n",
      "\n",
      "accuracy score: 0.7968\n",
      "\n",
      "Classification Report: \n",
      "              precision    recall  f1-score   support\n",
      "\n",
      "          0       0.85      0.90      0.87     16364\n",
      "          1       0.55      0.45      0.49      4636\n",
      "\n",
      "avg / total       0.78      0.80      0.79     21000\n",
      "\n",
      "\n",
      "Confusion Matrix: \n",
      " [[14646  1718]\n",
      " [ 2549  2087]]\n",
      "\n",
      "Average Accuracy: \t 0.7957\n",
      "Accuracy SD: \t\t 0.0045\n",
      "Test Result:\n",
      "\n",
      "accuracy score: 0.7853\n",
      "\n",
      "Classification Report: \n",
      "              precision    recall  f1-score   support\n",
      "\n",
      "          0       0.84      0.89      0.87      7000\n",
      "          1       0.52      0.41      0.46      2000\n",
      "\n",
      "avg / total       0.77      0.79      0.78      9000\n",
      "\n",
      "\n",
      "Confusion Matrix: \n",
      " [[6238  762]\n",
      " [1170  830]]\n",
      "\n"
     ]
    }
   ],
   "source": [
    "print_score(lr, X_train, y_train, X_test, y_test, train=True)\n",
    "print_score(lr, X_train, y_train, X_test, y_test, train=False)"
   ]
  },
  {
   "cell_type": "code",
   "execution_count": 55,
   "metadata": {
    "scrolled": true
   },
   "outputs": [
    {
     "name": "stdout",
     "output_type": "stream",
     "text": [
      "Test Result:\n",
      "\n",
      "accuracy score: 0.7853\n",
      "\n",
      "Classification Report: \n",
      "              precision    recall  f1-score   support\n",
      "\n",
      "          0       0.84      0.89      0.87      7000\n",
      "          1       0.52      0.41      0.46      2000\n",
      "\n",
      "avg / total       0.77      0.79      0.78      9000\n",
      "\n",
      "\n",
      "Confusion Matrix: \n",
      " [[6238  762]\n",
      " [1170  830]]\n",
      "\n"
     ]
    }
   ],
   "source": [
    "print_score(lr, X_train, y_train, X_test, y_test, train=False)"
   ]
  },
  {
   "cell_type": "code",
   "execution_count": 56,
   "metadata": {},
   "outputs": [
    {
     "name": "stdout",
     "output_type": "stream",
     "text": [
      "Train Result:\n",
      "\n",
      "accuracy score: 0.8115\n",
      "\n",
      "Classification Report: \n",
      "              precision    recall  f1-score   support\n",
      "\n",
      "          0       0.83      0.95      0.89     16364\n",
      "          1       0.65      0.32      0.43      4636\n",
      "\n",
      "avg / total       0.79      0.81      0.79     21000\n",
      "\n",
      "\n",
      "Confusion Matrix: \n",
      " [[15573   791]\n",
      " [ 3168  1468]]\n",
      "\n",
      "Average Accuracy: \t 0.7446\n",
      "Accuracy SD: \t\t 0.0058\n",
      "Test Result:\n",
      "\n",
      "accuracy score: 0.7452\n",
      "\n",
      "Classification Report: \n",
      "              precision    recall  f1-score   support\n",
      "\n",
      "          0       0.79      0.91      0.85      7000\n",
      "          1       0.35      0.17      0.23      2000\n",
      "\n",
      "avg / total       0.70      0.75      0.71      9000\n",
      "\n",
      "\n",
      "Confusion Matrix: \n",
      " [[6360  640]\n",
      " [1653  347]]\n",
      "\n"
     ]
    }
   ],
   "source": [
    "from sklearn.neighbors import KNeighborsClassifier\n",
    "lr=KNeighborsClassifier()\n",
    "lr.fit(X_train,y_train)\n",
    "lr.predict(X_test)\n",
    "print_score(lr, X_train, y_train, X_test, y_test, train=True)\n",
    "print_score(lr, X_train, y_train, X_test, y_test, train=False)"
   ]
  },
  {
   "cell_type": "code",
   "execution_count": 57,
   "metadata": {},
   "outputs": [
    {
     "name": "stderr",
     "output_type": "stream",
     "text": [
      "C:\\Users\\Subh\\Anaconda3\\lib\\site-packages\\sklearn\\preprocessing\\label.py:151: DeprecationWarning:\n",
      "\n",
      "The truth value of an empty array is ambiguous. Returning False, but in future this will result in an error. Use `array.size > 0` to check that an array is not empty.\n",
      "\n",
      "C:\\Users\\Subh\\Anaconda3\\lib\\site-packages\\sklearn\\preprocessing\\label.py:151: DeprecationWarning:\n",
      "\n",
      "The truth value of an empty array is ambiguous. Returning False, but in future this will result in an error. Use `array.size > 0` to check that an array is not empty.\n",
      "\n"
     ]
    },
    {
     "name": "stdout",
     "output_type": "stream",
     "text": [
      "Train Result:\n",
      "\n",
      "accuracy score: 0.8263\n",
      "\n"
     ]
    },
    {
     "name": "stderr",
     "output_type": "stream",
     "text": [
      "C:\\Users\\Subh\\Anaconda3\\lib\\site-packages\\sklearn\\preprocessing\\label.py:151: DeprecationWarning:\n",
      "\n",
      "The truth value of an empty array is ambiguous. Returning False, but in future this will result in an error. Use `array.size > 0` to check that an array is not empty.\n",
      "\n",
      "C:\\Users\\Subh\\Anaconda3\\lib\\site-packages\\sklearn\\preprocessing\\label.py:151: DeprecationWarning:\n",
      "\n",
      "The truth value of an empty array is ambiguous. Returning False, but in future this will result in an error. Use `array.size > 0` to check that an array is not empty.\n",
      "\n"
     ]
    },
    {
     "name": "stdout",
     "output_type": "stream",
     "text": [
      "Classification Report: \n",
      "              precision    recall  f1-score   support\n",
      "\n",
      "          0       0.84      0.95      0.90     16364\n",
      "          1       0.70      0.38      0.49      4636\n",
      "\n",
      "avg / total       0.81      0.83      0.81     21000\n",
      "\n",
      "\n",
      "Confusion Matrix: \n",
      " [[15604   760]\n",
      " [ 2887  1749]]\n",
      "\n"
     ]
    },
    {
     "name": "stderr",
     "output_type": "stream",
     "text": [
      "C:\\Users\\Subh\\Anaconda3\\lib\\site-packages\\sklearn\\preprocessing\\label.py:151: DeprecationWarning:\n",
      "\n",
      "The truth value of an empty array is ambiguous. Returning False, but in future this will result in an error. Use `array.size > 0` to check that an array is not empty.\n",
      "\n",
      "C:\\Users\\Subh\\Anaconda3\\lib\\site-packages\\sklearn\\preprocessing\\label.py:151: DeprecationWarning:\n",
      "\n",
      "The truth value of an empty array is ambiguous. Returning False, but in future this will result in an error. Use `array.size > 0` to check that an array is not empty.\n",
      "\n",
      "C:\\Users\\Subh\\Anaconda3\\lib\\site-packages\\sklearn\\preprocessing\\label.py:151: DeprecationWarning:\n",
      "\n",
      "The truth value of an empty array is ambiguous. Returning False, but in future this will result in an error. Use `array.size > 0` to check that an array is not empty.\n",
      "\n",
      "C:\\Users\\Subh\\Anaconda3\\lib\\site-packages\\sklearn\\preprocessing\\label.py:151: DeprecationWarning:\n",
      "\n",
      "The truth value of an empty array is ambiguous. Returning False, but in future this will result in an error. Use `array.size > 0` to check that an array is not empty.\n",
      "\n",
      "C:\\Users\\Subh\\Anaconda3\\lib\\site-packages\\sklearn\\preprocessing\\label.py:151: DeprecationWarning:\n",
      "\n",
      "The truth value of an empty array is ambiguous. Returning False, but in future this will result in an error. Use `array.size > 0` to check that an array is not empty.\n",
      "\n",
      "C:\\Users\\Subh\\Anaconda3\\lib\\site-packages\\sklearn\\preprocessing\\label.py:151: DeprecationWarning:\n",
      "\n",
      "The truth value of an empty array is ambiguous. Returning False, but in future this will result in an error. Use `array.size > 0` to check that an array is not empty.\n",
      "\n",
      "C:\\Users\\Subh\\Anaconda3\\lib\\site-packages\\sklearn\\preprocessing\\label.py:151: DeprecationWarning:\n",
      "\n",
      "The truth value of an empty array is ambiguous. Returning False, but in future this will result in an error. Use `array.size > 0` to check that an array is not empty.\n",
      "\n",
      "C:\\Users\\Subh\\Anaconda3\\lib\\site-packages\\sklearn\\preprocessing\\label.py:151: DeprecationWarning:\n",
      "\n",
      "The truth value of an empty array is ambiguous. Returning False, but in future this will result in an error. Use `array.size > 0` to check that an array is not empty.\n",
      "\n",
      "C:\\Users\\Subh\\Anaconda3\\lib\\site-packages\\sklearn\\preprocessing\\label.py:151: DeprecationWarning:\n",
      "\n",
      "The truth value of an empty array is ambiguous. Returning False, but in future this will result in an error. Use `array.size > 0` to check that an array is not empty.\n",
      "\n",
      "C:\\Users\\Subh\\Anaconda3\\lib\\site-packages\\sklearn\\preprocessing\\label.py:151: DeprecationWarning:\n",
      "\n",
      "The truth value of an empty array is ambiguous. Returning False, but in future this will result in an error. Use `array.size > 0` to check that an array is not empty.\n",
      "\n",
      "C:\\Users\\Subh\\Anaconda3\\lib\\site-packages\\sklearn\\preprocessing\\label.py:151: DeprecationWarning:\n",
      "\n",
      "The truth value of an empty array is ambiguous. Returning False, but in future this will result in an error. Use `array.size > 0` to check that an array is not empty.\n",
      "\n",
      "C:\\Users\\Subh\\Anaconda3\\lib\\site-packages\\sklearn\\preprocessing\\label.py:151: DeprecationWarning:\n",
      "\n",
      "The truth value of an empty array is ambiguous. Returning False, but in future this will result in an error. Use `array.size > 0` to check that an array is not empty.\n",
      "\n"
     ]
    },
    {
     "name": "stdout",
     "output_type": "stream",
     "text": [
      "Average Accuracy: \t 0.8232\n",
      "Accuracy SD: \t\t 0.0055\n",
      "Test Result:\n",
      "\n",
      "accuracy score: 0.8202\n",
      "\n",
      "Classification Report: \n",
      "              precision    recall  f1-score   support\n",
      "\n",
      "          0       0.84      0.95      0.89      7000\n",
      "          1       0.68      0.36      0.47      2000\n",
      "\n",
      "avg / total       0.80      0.82      0.80      9000\n",
      "\n",
      "\n",
      "Confusion Matrix: \n",
      " [[6660  340]\n",
      " [1278  722]]\n",
      "\n"
     ]
    },
    {
     "name": "stderr",
     "output_type": "stream",
     "text": [
      "C:\\Users\\Subh\\Anaconda3\\lib\\site-packages\\sklearn\\preprocessing\\label.py:151: DeprecationWarning:\n",
      "\n",
      "The truth value of an empty array is ambiguous. Returning False, but in future this will result in an error. Use `array.size > 0` to check that an array is not empty.\n",
      "\n"
     ]
    }
   ],
   "source": [
    "import xgboost as xgb\n",
    "lr = xgb.XGBClassifier()\n",
    "lr.fit(X_train, y_train)\n",
    "y_pred = lr.predict(X_test)\n",
    "print_score(lr, X_train, y_train, X_test, y_test, train=True)\n",
    "print_score(lr, X_train, y_train, X_test, y_test, train=False)"
   ]
  },
  {
   "cell_type": "code",
   "execution_count": 58,
   "metadata": {},
   "outputs": [
    {
     "data": {
      "text/plain": [
       "<matplotlib.axes._subplots.AxesSubplot at 0x1d0c43db5c0>"
      ]
     },
     "execution_count": 58,
     "metadata": {},
     "output_type": "execute_result"
    }
   ],
   "source": [
    "from sklearn.model_selection import cross_val_score  \n",
    "all_accuracies_GaussianNB = cross_val_score(estimator=DecisionTreeClassifier(), X=X_train, y=y_train, cv=10)  \n",
    "all_accuracies_GaussianNB=pd.DataFrame(all_accuracies_GaussianNB)\n",
    "all_accuracies_GaussianNB.plot()"
   ]
  },
  {
   "cell_type": "code",
   "execution_count": 59,
   "metadata": {},
   "outputs": [
    {
     "data": {
      "text/plain": [
       "<matplotlib.axes._subplots.AxesSubplot at 0x1d0c3ff4080>"
      ]
     },
     "execution_count": 59,
     "metadata": {},
     "output_type": "execute_result"
    }
   ],
   "source": [
    "from sklearn.model_selection import cross_val_score  \n",
    "all_accuracies_GaussianNB = cross_val_score(estimator=RandomForestClassifier(), X=X_train, y=y_train, cv=10)  \n",
    "all_accuracies_GaussianNB=pd.DataFrame(all_accuracies_GaussianNB)\n",
    "all_accuracies_GaussianNB.plot()"
   ]
  },
  {
   "cell_type": "code",
   "execution_count": 60,
   "metadata": {},
   "outputs": [
    {
     "data": {
      "text/plain": [
       "<matplotlib.axes._subplots.AxesSubplot at 0x1d0c4408a20>"
      ]
     },
     "execution_count": 60,
     "metadata": {},
     "output_type": "execute_result"
    }
   ],
   "source": [
    "from sklearn.model_selection import cross_val_score  \n",
    "from sklearn.naive_bayes import GaussianNB\n",
    "all_accuracies_GaussianNB = cross_val_score(estimator=GaussianNB(), X=X_train, y=y_train, cv=10)  \n",
    "all_accuracies_GaussianNB=pd.DataFrame(all_accuracies_GaussianNB)\n",
    "all_accuracies_GaussianNB.plot()\n"
   ]
  },
  {
   "cell_type": "code",
   "execution_count": 61,
   "metadata": {},
   "outputs": [
    {
     "data": {
      "text/plain": [
       "<matplotlib.axes._subplots.AxesSubplot at 0x1d0c4457e10>"
      ]
     },
     "execution_count": 61,
     "metadata": {},
     "output_type": "execute_result"
    }
   ],
   "source": [
    "from sklearn.model_selection import cross_val_score  \n",
    "all_accuracies_GaussianNB = cross_val_score(estimator=GaussianNB(), X=X_train, y=y_train, cv=10)  \n",
    "all_accuracies_GaussianNB=pd.DataFrame(all_accuracies_GaussianNB)\n",
    "all_accuracies_GaussianNB.plot()"
   ]
  },
  {
   "cell_type": "code",
   "execution_count": 62,
   "metadata": {},
   "outputs": [
    {
     "data": {
      "text/plain": [
       "<matplotlib.axes._subplots.AxesSubplot at 0x1d0c44d4c88>"
      ]
     },
     "execution_count": 62,
     "metadata": {},
     "output_type": "execute_result"
    }
   ],
   "source": [
    "from sklearn.model_selection import cross_val_score  \n",
    "all_accuracies_GaussianNB = cross_val_score(estimator=KNeighborsClassifier(), X=X_train, y=y_train, cv=10)  \n",
    "all_accuracies_GaussianNB=pd.DataFrame(all_accuracies_GaussianNB)\n",
    "all_accuracies_GaussianNB.plot()"
   ]
  },
  {
   "cell_type": "code",
   "execution_count": 65,
   "metadata": {},
   "outputs": [
    {
     "data": {
      "text/html": [
       "<div>\n",
       "<style scoped>\n",
       "    .dataframe tbody tr th:only-of-type {\n",
       "        vertical-align: middle;\n",
       "    }\n",
       "\n",
       "    .dataframe tbody tr th {\n",
       "        vertical-align: top;\n",
       "    }\n",
       "\n",
       "    .dataframe thead th {\n",
       "        text-align: right;\n",
       "    }\n",
       "</style>\n",
       "<table border=\"1\" class=\"dataframe\">\n",
       "  <thead>\n",
       "    <tr style=\"text-align: right;\">\n",
       "      <th></th>\n",
       "      <th>19273</th>\n",
       "      <th>1386</th>\n",
       "      <th>15995</th>\n",
       "      <th>28643</th>\n",
       "      <th>17250</th>\n",
       "    </tr>\n",
       "  </thead>\n",
       "  <tbody>\n",
       "    <tr>\n",
       "      <th>RBCount</th>\n",
       "      <td>150000.0</td>\n",
       "      <td>360000.0</td>\n",
       "      <td>140000.0</td>\n",
       "      <td>460000.0</td>\n",
       "      <td>100000.0</td>\n",
       "    </tr>\n",
       "    <tr>\n",
       "      <th>SEX</th>\n",
       "      <td>2.0</td>\n",
       "      <td>1.0</td>\n",
       "      <td>2.0</td>\n",
       "      <td>2.0</td>\n",
       "      <td>2.0</td>\n",
       "    </tr>\n",
       "    <tr>\n",
       "      <th>EDUCATION</th>\n",
       "      <td>2.0</td>\n",
       "      <td>1.0</td>\n",
       "      <td>1.0</td>\n",
       "      <td>1.0</td>\n",
       "      <td>2.0</td>\n",
       "    </tr>\n",
       "    <tr>\n",
       "      <th>MARRIAGE</th>\n",
       "      <td>2.0</td>\n",
       "      <td>2.0</td>\n",
       "      <td>2.0</td>\n",
       "      <td>2.0</td>\n",
       "      <td>1.0</td>\n",
       "    </tr>\n",
       "    <tr>\n",
       "      <th>AGE</th>\n",
       "      <td>32.0</td>\n",
       "      <td>36.0</td>\n",
       "      <td>33.0</td>\n",
       "      <td>35.0</td>\n",
       "      <td>37.0</td>\n",
       "    </tr>\n",
       "    <tr>\n",
       "      <th>Eithinicity</th>\n",
       "      <td>0.0</td>\n",
       "      <td>-1.0</td>\n",
       "      <td>0.0</td>\n",
       "      <td>1.0</td>\n",
       "      <td>0.0</td>\n",
       "    </tr>\n",
       "    <tr>\n",
       "      <th>Kidney Disfunction</th>\n",
       "      <td>0.0</td>\n",
       "      <td>-1.0</td>\n",
       "      <td>0.0</td>\n",
       "      <td>-1.0</td>\n",
       "      <td>0.0</td>\n",
       "    </tr>\n",
       "    <tr>\n",
       "      <th>Symptoms</th>\n",
       "      <td>0.0</td>\n",
       "      <td>-1.0</td>\n",
       "      <td>0.0</td>\n",
       "      <td>-1.0</td>\n",
       "      <td>0.0</td>\n",
       "    </tr>\n",
       "    <tr>\n",
       "      <th>CCIS</th>\n",
       "      <td>0.0</td>\n",
       "      <td>0.0</td>\n",
       "      <td>0.0</td>\n",
       "      <td>0.0</td>\n",
       "      <td>0.0</td>\n",
       "    </tr>\n",
       "    <tr>\n",
       "      <th>Disturbance of Equalibirum</th>\n",
       "      <td>0.0</td>\n",
       "      <td>0.0</td>\n",
       "      <td>0.0</td>\n",
       "      <td>0.0</td>\n",
       "      <td>0.0</td>\n",
       "    </tr>\n",
       "    <tr>\n",
       "      <th>Blood Flow levels</th>\n",
       "      <td>0.0</td>\n",
       "      <td>0.0</td>\n",
       "      <td>0.0</td>\n",
       "      <td>0.0</td>\n",
       "      <td>0.0</td>\n",
       "    </tr>\n",
       "    <tr>\n",
       "      <th>BMI Index</th>\n",
       "      <td>32136.0</td>\n",
       "      <td>208305.0</td>\n",
       "      <td>88906.0</td>\n",
       "      <td>693.0</td>\n",
       "      <td>101587.0</td>\n",
       "    </tr>\n",
       "    <tr>\n",
       "      <th>Shotness of Breath</th>\n",
       "      <td>32136.0</td>\n",
       "      <td>208305.0</td>\n",
       "      <td>88906.0</td>\n",
       "      <td>693.0</td>\n",
       "      <td>101587.0</td>\n",
       "    </tr>\n",
       "    <tr>\n",
       "      <th>Uremia Levels</th>\n",
       "      <td>28151.0</td>\n",
       "      <td>68214.0</td>\n",
       "      <td>88736.0</td>\n",
       "      <td>224526.0</td>\n",
       "      <td>100095.0</td>\n",
       "    </tr>\n",
       "    <tr>\n",
       "      <th>Urine Color</th>\n",
       "      <td>27697.0</td>\n",
       "      <td>168014.0</td>\n",
       "      <td>91287.0</td>\n",
       "      <td>227242.0</td>\n",
       "      <td>98569.0</td>\n",
       "    </tr>\n",
       "  </tbody>\n",
       "</table>\n",
       "</div>"
      ],
      "text/plain": [
       "                                19273     1386      15995     28643     17250\n",
       "RBCount                      150000.0  360000.0  140000.0  460000.0  100000.0\n",
       "SEX                               2.0       1.0       2.0       2.0       2.0\n",
       "EDUCATION                         2.0       1.0       1.0       1.0       2.0\n",
       "MARRIAGE                          2.0       2.0       2.0       2.0       1.0\n",
       "AGE                              32.0      36.0      33.0      35.0      37.0\n",
       "Eithinicity                       0.0      -1.0       0.0       1.0       0.0\n",
       "Kidney Disfunction                0.0      -1.0       0.0      -1.0       0.0\n",
       "Symptoms                          0.0      -1.0       0.0      -1.0       0.0\n",
       "CCIS                              0.0       0.0       0.0       0.0       0.0\n",
       "Disturbance of Equalibirum        0.0       0.0       0.0       0.0       0.0\n",
       "Blood Flow levels                 0.0       0.0       0.0       0.0       0.0\n",
       "BMI Index                     32136.0  208305.0   88906.0     693.0  101587.0\n",
       "Shotness of Breath            32136.0  208305.0   88906.0     693.0  101587.0\n",
       "Uremia Levels                 28151.0   68214.0   88736.0  224526.0  100095.0\n",
       "Urine Color                   27697.0  168014.0   91287.0  227242.0   98569.0"
      ]
     },
     "execution_count": 65,
     "metadata": {},
     "output_type": "execute_result"
    }
   ],
   "source": [
    "X_test.head().T"
   ]
  },
  {
   "cell_type": "code",
   "execution_count": 66,
   "metadata": {},
   "outputs": [
    {
     "data": {
      "text/plain": [
       "Index(['RBCount', 'SEX', 'EDUCATION', 'MARRIAGE', 'AGE', 'Eithinicity',\n",
       "       'Kidney Disfunction', 'Symptoms', 'CCIS', 'Disturbance of Equalibirum ',\n",
       "       'Blood Flow levels', 'BMI Index', 'Shotness of Breath', 'Uremia Levels',\n",
       "       'Urine Color '],\n",
       "      dtype='object')"
      ]
     },
     "execution_count": 66,
     "metadata": {},
     "output_type": "execute_result"
    }
   ],
   "source": [
    "X_test.head().columns"
   ]
  },
  {
   "cell_type": "code",
   "execution_count": 68,
   "metadata": {},
   "outputs": [
    {
     "name": "stderr",
     "output_type": "stream",
     "text": [
      "C:\\Users\\Subh\\Anaconda3\\lib\\site-packages\\sklearn\\preprocessing\\label.py:151: DeprecationWarning:\n",
      "\n",
      "The truth value of an empty array is ambiguous. Returning False, but in future this will result in an error. Use `array.size > 0` to check that an array is not empty.\n",
      "\n"
     ]
    }
   ],
   "source": [
    "import mysql.connector\n",
    "\n",
    "mydb = mysql.connector.connect(\n",
    "  host=\"localhost\",\n",
    "  user=\"root\",\n",
    "  passwd=\"\",\n",
    "  database=\"cancer\"\n",
    ")\n",
    "mycursor = mydb.cursor()\n",
    "mycursor.execute(\"SELECT * FROM prediction\")\n",
    "myresult = mycursor.fetchall()\n",
    "q=[]\n",
    "for x in myresult:\n",
    "    for i in x:\n",
    "        if i is not None:\n",
    "            #print(i)\n",
    "            q.append(float(i))\n",
    "                \n",
    "        else:\n",
    "            #print(i)\n",
    "            q.append(i)\n",
    "# q\n",
    "q=pd.DataFrame(q)\n",
    "q=q.T\n",
    "q=q.iloc[:,:-1]\n",
    "q.columns=['RBCount', 'SEX', 'EDUCATION', 'MARRIAGE', 'AGE', 'Eithinicity',\n",
    "       'Kidney Disfunction', 'Symptoms', 'CCIS', 'Disturbance of Equalibirum ',\n",
    "       'Blood Flow levels', 'BMI Index', 'Shotness of Breath', 'Uremia Levels',\n",
    "       'Urine Color ']\n",
    "\n",
    "e=lr.predict(q)\n",
    "sql = \"update prediction set ESRD_Disease = %s\"\n",
    "val= str(e[0])\n",
    "mycursor.execute(sql, (val,))\n",
    "mydb.commit()"
   ]
  }
 ],
 "metadata": {
  "kernelspec": {
   "display_name": "Python 3",
   "language": "python",
   "name": "python3"
  },
  "language_info": {
   "codemirror_mode": {
    "name": "ipython",
    "version": 3
   },
   "file_extension": ".py",
   "mimetype": "text/x-python",
   "name": "python",
   "nbconvert_exporter": "python",
   "pygments_lexer": "ipython3",
   "version": "3.6.5"
  }
 },
 "nbformat": 4,
 "nbformat_minor": 2
}
